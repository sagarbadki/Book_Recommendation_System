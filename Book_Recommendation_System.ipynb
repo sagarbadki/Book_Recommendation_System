{
  "nbformat": 4,
  "nbformat_minor": 0,
  "metadata": {
    "kernelspec": {
      "display_name": "Python 3",
      "language": "python",
      "name": "python3"
    },
    "language_info": {
      "codemirror_mode": {
        "name": "ipython",
        "version": 3
      },
      "file_extension": ".py",
      "mimetype": "text/x-python",
      "name": "python",
      "nbconvert_exporter": "python",
      "pygments_lexer": "ipython3",
      "version": "3.7.9"
    },
    "colab": {
      "name": "Book Recommendation System.ipynb",
      "provenance": [],
      "collapsed_sections": []
    },
    "accelerator": "GPU"
  },
  "cells": [
    {
      "cell_type": "code",
      "metadata": {
        "id": "zCq42FQ01AtM",
        "colab_type": "code",
        "colab": {
          "base_uri": "https://localhost:8080/",
          "height": 122
        },
        "outputId": "e5258c02-3ed4-437c-be8c-d31932e9aa44"
      },
      "source": [
        "from google.colab import drive\n",
        "drive.mount('/content/drive')"
      ],
      "execution_count": 2,
      "outputs": [
        {
          "output_type": "stream",
          "text": [
            "Go to this URL in a browser: https://accounts.google.com/o/oauth2/auth?client_id=947318989803-6bn6qk8qdgf4n4g3pfee6491hc0brc4i.apps.googleusercontent.com&redirect_uri=urn%3aietf%3awg%3aoauth%3a2.0%3aoob&scope=email%20https%3a%2f%2fwww.googleapis.com%2fauth%2fdocs.test%20https%3a%2f%2fwww.googleapis.com%2fauth%2fdrive%20https%3a%2f%2fwww.googleapis.com%2fauth%2fdrive.photos.readonly%20https%3a%2f%2fwww.googleapis.com%2fauth%2fpeopleapi.readonly&response_type=code\n",
            "\n",
            "Enter your authorization code:\n",
            "··········\n",
            "Mounted at /content/drive\n"
          ],
          "name": "stdout"
        }
      ]
    },
    {
      "cell_type": "markdown",
      "metadata": {
        "id": "MqqeG1kmZQ6O",
        "colab_type": "text"
      },
      "source": [
        "## Book Recommendation System"
      ]
    },
    {
      "cell_type": "markdown",
      "metadata": {
        "id": "KgQVQ8xJZXk0",
        "colab_type": "text"
      },
      "source": [
        "We have two types of recommendation systems:\n",
        "\n",
        "1] Content-Based\n",
        "\n",
        "2] Collaborative Filtering based\n",
        "\n",
        "In our case we will use collaborative filtering, there are two types of approaches when it comes to collaborative filtering.\n",
        "\n",
        "1] Memory based approach\n",
        "\n",
        "2] Model-based approach\n",
        "\n",
        "We are using a Model-based Approach because of the sparse matrix."
      ]
    },
    {
      "cell_type": "markdown",
      "metadata": {
        "id": "fytwssD2bjPA",
        "colab_type": "text"
      },
      "source": [
        "We are building this model using surprise Libary which is especially build for recommendation systems."
      ]
    },
    {
      "cell_type": "code",
      "metadata": {
        "id": "0CX1W6hSSY2i",
        "colab_type": "code",
        "colab": {
          "base_uri": "https://localhost:8080/",
          "height": 309
        },
        "outputId": "4dd46df3-95c9-4692-f285-da931cfe4998"
      },
      "source": [
        "!pip install surprise"
      ],
      "execution_count": 25,
      "outputs": [
        {
          "output_type": "stream",
          "text": [
            "Collecting surprise\n",
            "  Downloading https://files.pythonhosted.org/packages/61/de/e5cba8682201fcf9c3719a6fdda95693468ed061945493dea2dd37c5618b/surprise-0.1-py2.py3-none-any.whl\n",
            "Collecting scikit-surprise\n",
            "\u001b[?25l  Downloading https://files.pythonhosted.org/packages/97/37/5d334adaf5ddd65da99fc65f6507e0e4599d092ba048f4302fe8775619e8/scikit-surprise-1.1.1.tar.gz (11.8MB)\n",
            "\u001b[K     |████████████████████████████████| 11.8MB 251kB/s \n",
            "\u001b[?25hRequirement already satisfied: joblib>=0.11 in /usr/local/lib/python3.6/dist-packages (from scikit-surprise->surprise) (0.16.0)\n",
            "Requirement already satisfied: numpy>=1.11.2 in /usr/local/lib/python3.6/dist-packages (from scikit-surprise->surprise) (1.18.5)\n",
            "Requirement already satisfied: scipy>=1.0.0 in /usr/local/lib/python3.6/dist-packages (from scikit-surprise->surprise) (1.4.1)\n",
            "Requirement already satisfied: six>=1.10.0 in /usr/local/lib/python3.6/dist-packages (from scikit-surprise->surprise) (1.15.0)\n",
            "Building wheels for collected packages: scikit-surprise\n",
            "  Building wheel for scikit-surprise (setup.py) ... \u001b[?25l\u001b[?25hdone\n",
            "  Created wheel for scikit-surprise: filename=scikit_surprise-1.1.1-cp36-cp36m-linux_x86_64.whl size=1670920 sha256=8e21728ba8b6723849db5dfa104d704f14d0eea7690fc574fd3e700365144227\n",
            "  Stored in directory: /root/.cache/pip/wheels/78/9c/3d/41b419c9d2aff5b6e2b4c0fc8d25c538202834058f9ed110d0\n",
            "Successfully built scikit-surprise\n",
            "Installing collected packages: scikit-surprise, surprise\n",
            "Successfully installed scikit-surprise-1.1.1 surprise-0.1\n"
          ],
          "name": "stdout"
        }
      ]
    },
    {
      "cell_type": "code",
      "metadata": {
        "id": "x5gW55ipGfZd",
        "colab_type": "code",
        "colab": {
          "base_uri": "https://localhost:8080/",
          "height": 85
        },
        "outputId": "ff78e4aa-26c9-48bb-9b66-ea935f1f347d"
      },
      "source": [
        "#Import packages\n",
        "import pandas as pd\n",
        "import matplotlib.pyplot as plt\n",
        "import numpy as np\n",
        "import seaborn as sns\n",
        "from surprise import NormalPredictor, Reader, Dataset, accuracy, SVD, SVDpp, KNNBasic, CoClustering, SlopeOne\n",
        "from surprise.model_selection import cross_validate, KFold, GridSearchCV, train_test_split"
      ],
      "execution_count": 26,
      "outputs": [
        {
          "output_type": "stream",
          "text": [
            "/usr/local/lib/python3.6/dist-packages/statsmodels/tools/_testing.py:19: FutureWarning:\n",
            "\n",
            "pandas.util.testing is deprecated. Use the functions in the public API at pandas.testing instead.\n",
            "\n"
          ],
          "name": "stderr"
        }
      ]
    },
    {
      "cell_type": "markdown",
      "metadata": {
        "id": "9dkpXOnsQELv",
        "colab_type": "text"
      },
      "source": [
        "## Reading and Understanding the data"
      ]
    },
    {
      "cell_type": "code",
      "metadata": {
        "id": "xnwmxuM_0zf-",
        "colab_type": "code",
        "colab": {}
      },
      "source": [
        "df_booktags=pd.read_csv('/content/drive/My Drive/Book_recommendation_aasignment/book_tags.csv')\n",
        "df_books=pd.read_csv('/content/drive/My Drive/Book_recommendation_aasignment/books.csv')\n",
        "df_ratings=pd.read_csv('/content/drive/My Drive/Book_recommendation_aasignment/ratings.csv')\n",
        "df_tags=pd.read_csv('/content/drive/My Drive/Book_recommendation_aasignment/tags.csv')\n",
        "to_read_csv=pd.read_csv('/content/drive/My Drive/Book_recommendation_aasignment/to_read.csv')\n",
        "\n"
      ],
      "execution_count": 27,
      "outputs": []
    },
    {
      "cell_type": "code",
      "metadata": {
        "id": "nal6_GDQ0zgL",
        "colab_type": "code",
        "colab": {
          "base_uri": "https://localhost:8080/",
          "height": 204
        },
        "outputId": "e2f0f378-7b69-43c0-f815-4b84d5ea014a"
      },
      "source": [
        "df_booktags.head()"
      ],
      "execution_count": 28,
      "outputs": [
        {
          "output_type": "execute_result",
          "data": {
            "text/html": [
              "<div>\n",
              "<style scoped>\n",
              "    .dataframe tbody tr th:only-of-type {\n",
              "        vertical-align: middle;\n",
              "    }\n",
              "\n",
              "    .dataframe tbody tr th {\n",
              "        vertical-align: top;\n",
              "    }\n",
              "\n",
              "    .dataframe thead th {\n",
              "        text-align: right;\n",
              "    }\n",
              "</style>\n",
              "<table border=\"1\" class=\"dataframe\">\n",
              "  <thead>\n",
              "    <tr style=\"text-align: right;\">\n",
              "      <th></th>\n",
              "      <th>goodreads_book_id</th>\n",
              "      <th>tag_id</th>\n",
              "      <th>count</th>\n",
              "    </tr>\n",
              "  </thead>\n",
              "  <tbody>\n",
              "    <tr>\n",
              "      <th>0</th>\n",
              "      <td>1</td>\n",
              "      <td>30574</td>\n",
              "      <td>167697</td>\n",
              "    </tr>\n",
              "    <tr>\n",
              "      <th>1</th>\n",
              "      <td>1</td>\n",
              "      <td>11305</td>\n",
              "      <td>37174</td>\n",
              "    </tr>\n",
              "    <tr>\n",
              "      <th>2</th>\n",
              "      <td>1</td>\n",
              "      <td>11557</td>\n",
              "      <td>34173</td>\n",
              "    </tr>\n",
              "    <tr>\n",
              "      <th>3</th>\n",
              "      <td>1</td>\n",
              "      <td>8717</td>\n",
              "      <td>12986</td>\n",
              "    </tr>\n",
              "    <tr>\n",
              "      <th>4</th>\n",
              "      <td>1</td>\n",
              "      <td>33114</td>\n",
              "      <td>12716</td>\n",
              "    </tr>\n",
              "  </tbody>\n",
              "</table>\n",
              "</div>"
            ],
            "text/plain": [
              "   goodreads_book_id  tag_id   count\n",
              "0                  1   30574  167697\n",
              "1                  1   11305   37174\n",
              "2                  1   11557   34173\n",
              "3                  1    8717   12986\n",
              "4                  1   33114   12716"
            ]
          },
          "metadata": {
            "tags": []
          },
          "execution_count": 28
        }
      ]
    },
    {
      "cell_type": "code",
      "metadata": {
        "id": "PrXs_e6A0zga",
        "colab_type": "code",
        "colab": {
          "base_uri": "https://localhost:8080/",
          "height": 428
        },
        "outputId": "63e053e9-257d-4850-ff04-80315491afb8"
      },
      "source": [
        "df_books.head()"
      ],
      "execution_count": 29,
      "outputs": [
        {
          "output_type": "execute_result",
          "data": {
            "text/html": [
              "<div>\n",
              "<style scoped>\n",
              "    .dataframe tbody tr th:only-of-type {\n",
              "        vertical-align: middle;\n",
              "    }\n",
              "\n",
              "    .dataframe tbody tr th {\n",
              "        vertical-align: top;\n",
              "    }\n",
              "\n",
              "    .dataframe thead th {\n",
              "        text-align: right;\n",
              "    }\n",
              "</style>\n",
              "<table border=\"1\" class=\"dataframe\">\n",
              "  <thead>\n",
              "    <tr style=\"text-align: right;\">\n",
              "      <th></th>\n",
              "      <th>id</th>\n",
              "      <th>book_id</th>\n",
              "      <th>best_book_id</th>\n",
              "      <th>work_id</th>\n",
              "      <th>books_count</th>\n",
              "      <th>isbn</th>\n",
              "      <th>isbn13</th>\n",
              "      <th>authors</th>\n",
              "      <th>original_publication_year</th>\n",
              "      <th>original_title</th>\n",
              "      <th>title</th>\n",
              "      <th>language_code</th>\n",
              "      <th>average_rating</th>\n",
              "      <th>ratings_count</th>\n",
              "      <th>work_ratings_count</th>\n",
              "      <th>work_text_reviews_count</th>\n",
              "      <th>ratings_1</th>\n",
              "      <th>ratings_2</th>\n",
              "      <th>ratings_3</th>\n",
              "      <th>ratings_4</th>\n",
              "      <th>ratings_5</th>\n",
              "      <th>image_url</th>\n",
              "      <th>small_image_url</th>\n",
              "    </tr>\n",
              "  </thead>\n",
              "  <tbody>\n",
              "    <tr>\n",
              "      <th>0</th>\n",
              "      <td>1</td>\n",
              "      <td>2767052</td>\n",
              "      <td>2767052</td>\n",
              "      <td>2792775</td>\n",
              "      <td>272</td>\n",
              "      <td>439023483</td>\n",
              "      <td>9.780439e+12</td>\n",
              "      <td>Suzanne Collins</td>\n",
              "      <td>2008.0</td>\n",
              "      <td>The Hunger Games</td>\n",
              "      <td>The Hunger Games (The Hunger Games, #1)</td>\n",
              "      <td>eng</td>\n",
              "      <td>4.34</td>\n",
              "      <td>4780653</td>\n",
              "      <td>4942365</td>\n",
              "      <td>155254</td>\n",
              "      <td>66715</td>\n",
              "      <td>127936</td>\n",
              "      <td>560092</td>\n",
              "      <td>1481305</td>\n",
              "      <td>2706317</td>\n",
              "      <td>https://images.gr-assets.com/books/1447303603m...</td>\n",
              "      <td>https://images.gr-assets.com/books/1447303603s...</td>\n",
              "    </tr>\n",
              "    <tr>\n",
              "      <th>1</th>\n",
              "      <td>2</td>\n",
              "      <td>3</td>\n",
              "      <td>3</td>\n",
              "      <td>4640799</td>\n",
              "      <td>491</td>\n",
              "      <td>439554934</td>\n",
              "      <td>9.780440e+12</td>\n",
              "      <td>J.K. Rowling, Mary GrandPré</td>\n",
              "      <td>1997.0</td>\n",
              "      <td>Harry Potter and the Philosopher's Stone</td>\n",
              "      <td>Harry Potter and the Sorcerer's Stone (Harry P...</td>\n",
              "      <td>eng</td>\n",
              "      <td>4.44</td>\n",
              "      <td>4602479</td>\n",
              "      <td>4800065</td>\n",
              "      <td>75867</td>\n",
              "      <td>75504</td>\n",
              "      <td>101676</td>\n",
              "      <td>455024</td>\n",
              "      <td>1156318</td>\n",
              "      <td>3011543</td>\n",
              "      <td>https://images.gr-assets.com/books/1474154022m...</td>\n",
              "      <td>https://images.gr-assets.com/books/1474154022s...</td>\n",
              "    </tr>\n",
              "    <tr>\n",
              "      <th>2</th>\n",
              "      <td>3</td>\n",
              "      <td>41865</td>\n",
              "      <td>41865</td>\n",
              "      <td>3212258</td>\n",
              "      <td>226</td>\n",
              "      <td>316015849</td>\n",
              "      <td>9.780316e+12</td>\n",
              "      <td>Stephenie Meyer</td>\n",
              "      <td>2005.0</td>\n",
              "      <td>Twilight</td>\n",
              "      <td>Twilight (Twilight, #1)</td>\n",
              "      <td>en-US</td>\n",
              "      <td>3.57</td>\n",
              "      <td>3866839</td>\n",
              "      <td>3916824</td>\n",
              "      <td>95009</td>\n",
              "      <td>456191</td>\n",
              "      <td>436802</td>\n",
              "      <td>793319</td>\n",
              "      <td>875073</td>\n",
              "      <td>1355439</td>\n",
              "      <td>https://images.gr-assets.com/books/1361039443m...</td>\n",
              "      <td>https://images.gr-assets.com/books/1361039443s...</td>\n",
              "    </tr>\n",
              "    <tr>\n",
              "      <th>3</th>\n",
              "      <td>4</td>\n",
              "      <td>2657</td>\n",
              "      <td>2657</td>\n",
              "      <td>3275794</td>\n",
              "      <td>487</td>\n",
              "      <td>61120081</td>\n",
              "      <td>9.780061e+12</td>\n",
              "      <td>Harper Lee</td>\n",
              "      <td>1960.0</td>\n",
              "      <td>To Kill a Mockingbird</td>\n",
              "      <td>To Kill a Mockingbird</td>\n",
              "      <td>eng</td>\n",
              "      <td>4.25</td>\n",
              "      <td>3198671</td>\n",
              "      <td>3340896</td>\n",
              "      <td>72586</td>\n",
              "      <td>60427</td>\n",
              "      <td>117415</td>\n",
              "      <td>446835</td>\n",
              "      <td>1001952</td>\n",
              "      <td>1714267</td>\n",
              "      <td>https://images.gr-assets.com/books/1361975680m...</td>\n",
              "      <td>https://images.gr-assets.com/books/1361975680s...</td>\n",
              "    </tr>\n",
              "    <tr>\n",
              "      <th>4</th>\n",
              "      <td>5</td>\n",
              "      <td>4671</td>\n",
              "      <td>4671</td>\n",
              "      <td>245494</td>\n",
              "      <td>1356</td>\n",
              "      <td>743273567</td>\n",
              "      <td>9.780743e+12</td>\n",
              "      <td>F. Scott Fitzgerald</td>\n",
              "      <td>1925.0</td>\n",
              "      <td>The Great Gatsby</td>\n",
              "      <td>The Great Gatsby</td>\n",
              "      <td>eng</td>\n",
              "      <td>3.89</td>\n",
              "      <td>2683664</td>\n",
              "      <td>2773745</td>\n",
              "      <td>51992</td>\n",
              "      <td>86236</td>\n",
              "      <td>197621</td>\n",
              "      <td>606158</td>\n",
              "      <td>936012</td>\n",
              "      <td>947718</td>\n",
              "      <td>https://images.gr-assets.com/books/1490528560m...</td>\n",
              "      <td>https://images.gr-assets.com/books/1490528560s...</td>\n",
              "    </tr>\n",
              "  </tbody>\n",
              "</table>\n",
              "</div>"
            ],
            "text/plain": [
              "   id  ...                                    small_image_url\n",
              "0   1  ...  https://images.gr-assets.com/books/1447303603s...\n",
              "1   2  ...  https://images.gr-assets.com/books/1474154022s...\n",
              "2   3  ...  https://images.gr-assets.com/books/1361039443s...\n",
              "3   4  ...  https://images.gr-assets.com/books/1361975680s...\n",
              "4   5  ...  https://images.gr-assets.com/books/1490528560s...\n",
              "\n",
              "[5 rows x 23 columns]"
            ]
          },
          "metadata": {
            "tags": []
          },
          "execution_count": 29
        }
      ]
    },
    {
      "cell_type": "code",
      "metadata": {
        "id": "-Qee6ZWQ0zgl",
        "colab_type": "code",
        "colab": {
          "base_uri": "https://localhost:8080/",
          "height": 204
        },
        "outputId": "2e83a253-c3b3-4247-f0e7-41c07f11e907"
      },
      "source": [
        "df_ratings.head()"
      ],
      "execution_count": 30,
      "outputs": [
        {
          "output_type": "execute_result",
          "data": {
            "text/html": [
              "<div>\n",
              "<style scoped>\n",
              "    .dataframe tbody tr th:only-of-type {\n",
              "        vertical-align: middle;\n",
              "    }\n",
              "\n",
              "    .dataframe tbody tr th {\n",
              "        vertical-align: top;\n",
              "    }\n",
              "\n",
              "    .dataframe thead th {\n",
              "        text-align: right;\n",
              "    }\n",
              "</style>\n",
              "<table border=\"1\" class=\"dataframe\">\n",
              "  <thead>\n",
              "    <tr style=\"text-align: right;\">\n",
              "      <th></th>\n",
              "      <th>book_id</th>\n",
              "      <th>user_id</th>\n",
              "      <th>rating</th>\n",
              "    </tr>\n",
              "  </thead>\n",
              "  <tbody>\n",
              "    <tr>\n",
              "      <th>0</th>\n",
              "      <td>1</td>\n",
              "      <td>314</td>\n",
              "      <td>5</td>\n",
              "    </tr>\n",
              "    <tr>\n",
              "      <th>1</th>\n",
              "      <td>1</td>\n",
              "      <td>439</td>\n",
              "      <td>3</td>\n",
              "    </tr>\n",
              "    <tr>\n",
              "      <th>2</th>\n",
              "      <td>1</td>\n",
              "      <td>588</td>\n",
              "      <td>5</td>\n",
              "    </tr>\n",
              "    <tr>\n",
              "      <th>3</th>\n",
              "      <td>1</td>\n",
              "      <td>1169</td>\n",
              "      <td>4</td>\n",
              "    </tr>\n",
              "    <tr>\n",
              "      <th>4</th>\n",
              "      <td>1</td>\n",
              "      <td>1185</td>\n",
              "      <td>4</td>\n",
              "    </tr>\n",
              "  </tbody>\n",
              "</table>\n",
              "</div>"
            ],
            "text/plain": [
              "   book_id  user_id  rating\n",
              "0        1      314       5\n",
              "1        1      439       3\n",
              "2        1      588       5\n",
              "3        1     1169       4\n",
              "4        1     1185       4"
            ]
          },
          "metadata": {
            "tags": []
          },
          "execution_count": 30
        }
      ]
    },
    {
      "cell_type": "code",
      "metadata": {
        "id": "g3r2H8Wg0zgw",
        "colab_type": "code",
        "colab": {
          "base_uri": "https://localhost:8080/",
          "height": 204
        },
        "outputId": "c2cdc580-2789-426c-d67c-3c30416e5c61"
      },
      "source": [
        "df_tags.head()"
      ],
      "execution_count": 31,
      "outputs": [
        {
          "output_type": "execute_result",
          "data": {
            "text/html": [
              "<div>\n",
              "<style scoped>\n",
              "    .dataframe tbody tr th:only-of-type {\n",
              "        vertical-align: middle;\n",
              "    }\n",
              "\n",
              "    .dataframe tbody tr th {\n",
              "        vertical-align: top;\n",
              "    }\n",
              "\n",
              "    .dataframe thead th {\n",
              "        text-align: right;\n",
              "    }\n",
              "</style>\n",
              "<table border=\"1\" class=\"dataframe\">\n",
              "  <thead>\n",
              "    <tr style=\"text-align: right;\">\n",
              "      <th></th>\n",
              "      <th>tag_id</th>\n",
              "      <th>tag_name</th>\n",
              "    </tr>\n",
              "  </thead>\n",
              "  <tbody>\n",
              "    <tr>\n",
              "      <th>0</th>\n",
              "      <td>0</td>\n",
              "      <td>-</td>\n",
              "    </tr>\n",
              "    <tr>\n",
              "      <th>1</th>\n",
              "      <td>1</td>\n",
              "      <td>--1-</td>\n",
              "    </tr>\n",
              "    <tr>\n",
              "      <th>2</th>\n",
              "      <td>2</td>\n",
              "      <td>--10-</td>\n",
              "    </tr>\n",
              "    <tr>\n",
              "      <th>3</th>\n",
              "      <td>3</td>\n",
              "      <td>--12-</td>\n",
              "    </tr>\n",
              "    <tr>\n",
              "      <th>4</th>\n",
              "      <td>4</td>\n",
              "      <td>--122-</td>\n",
              "    </tr>\n",
              "  </tbody>\n",
              "</table>\n",
              "</div>"
            ],
            "text/plain": [
              "   tag_id tag_name\n",
              "0       0        -\n",
              "1       1     --1-\n",
              "2       2    --10-\n",
              "3       3    --12-\n",
              "4       4   --122-"
            ]
          },
          "metadata": {
            "tags": []
          },
          "execution_count": 31
        }
      ]
    },
    {
      "cell_type": "code",
      "metadata": {
        "id": "_AeX_bng0zg7",
        "colab_type": "code",
        "colab": {
          "base_uri": "https://localhost:8080/",
          "height": 204
        },
        "outputId": "3431679f-ad16-40f7-fe6a-4af5129d7c96"
      },
      "source": [
        "to_read_csv.head()"
      ],
      "execution_count": 32,
      "outputs": [
        {
          "output_type": "execute_result",
          "data": {
            "text/html": [
              "<div>\n",
              "<style scoped>\n",
              "    .dataframe tbody tr th:only-of-type {\n",
              "        vertical-align: middle;\n",
              "    }\n",
              "\n",
              "    .dataframe tbody tr th {\n",
              "        vertical-align: top;\n",
              "    }\n",
              "\n",
              "    .dataframe thead th {\n",
              "        text-align: right;\n",
              "    }\n",
              "</style>\n",
              "<table border=\"1\" class=\"dataframe\">\n",
              "  <thead>\n",
              "    <tr style=\"text-align: right;\">\n",
              "      <th></th>\n",
              "      <th>user_id</th>\n",
              "      <th>book_id</th>\n",
              "    </tr>\n",
              "  </thead>\n",
              "  <tbody>\n",
              "    <tr>\n",
              "      <th>0</th>\n",
              "      <td>1</td>\n",
              "      <td>112</td>\n",
              "    </tr>\n",
              "    <tr>\n",
              "      <th>1</th>\n",
              "      <td>1</td>\n",
              "      <td>235</td>\n",
              "    </tr>\n",
              "    <tr>\n",
              "      <th>2</th>\n",
              "      <td>1</td>\n",
              "      <td>533</td>\n",
              "    </tr>\n",
              "    <tr>\n",
              "      <th>3</th>\n",
              "      <td>1</td>\n",
              "      <td>1198</td>\n",
              "    </tr>\n",
              "    <tr>\n",
              "      <th>4</th>\n",
              "      <td>1</td>\n",
              "      <td>1874</td>\n",
              "    </tr>\n",
              "  </tbody>\n",
              "</table>\n",
              "</div>"
            ],
            "text/plain": [
              "   user_id  book_id\n",
              "0        1      112\n",
              "1        1      235\n",
              "2        1      533\n",
              "3        1     1198\n",
              "4        1     1874"
            ]
          },
          "metadata": {
            "tags": []
          },
          "execution_count": 32
        }
      ]
    },
    {
      "cell_type": "code",
      "metadata": {
        "id": "p2R64mti0zhH",
        "colab_type": "code",
        "colab": {
          "base_uri": "https://localhost:8080/",
          "height": 34
        },
        "outputId": "5f5a6407-3a1e-45a4-e62b-02192ab6b8ba"
      },
      "source": [
        "to_read_csv.shape"
      ],
      "execution_count": 33,
      "outputs": [
        {
          "output_type": "execute_result",
          "data": {
            "text/plain": [
              "(912705, 2)"
            ]
          },
          "metadata": {
            "tags": []
          },
          "execution_count": 33
        }
      ]
    },
    {
      "cell_type": "code",
      "metadata": {
        "id": "ZkcZu05w0zhS",
        "colab_type": "code",
        "colab": {
          "base_uri": "https://localhost:8080/",
          "height": 136
        },
        "outputId": "57c74dfb-7bc1-47c2-c5d0-d0b1b7dc52e7"
      },
      "source": [
        "df_books.columns"
      ],
      "execution_count": 34,
      "outputs": [
        {
          "output_type": "execute_result",
          "data": {
            "text/plain": [
              "Index(['id', 'book_id', 'best_book_id', 'work_id', 'books_count', 'isbn',\n",
              "       'isbn13', 'authors', 'original_publication_year', 'original_title',\n",
              "       'title', 'language_code', 'average_rating', 'ratings_count',\n",
              "       'work_ratings_count', 'work_text_reviews_count', 'ratings_1',\n",
              "       'ratings_2', 'ratings_3', 'ratings_4', 'ratings_5', 'image_url',\n",
              "       'small_image_url'],\n",
              "      dtype='object')"
            ]
          },
          "metadata": {
            "tags": []
          },
          "execution_count": 34
        }
      ]
    },
    {
      "cell_type": "markdown",
      "metadata": {
        "id": "lwY0wUJLQ_ZK",
        "colab_type": "text"
      },
      "source": [
        "## Data Merging"
      ]
    },
    {
      "cell_type": "code",
      "metadata": {
        "id": "s_ab10vq0zhb",
        "colab_type": "code",
        "colab": {}
      },
      "source": [
        "df=df_books.merge(df_ratings,on='book_id')"
      ],
      "execution_count": 35,
      "outputs": []
    },
    {
      "cell_type": "code",
      "metadata": {
        "id": "aryUVbgK0zhm",
        "colab_type": "code",
        "colab": {
          "base_uri": "https://localhost:8080/",
          "height": 649
        },
        "outputId": "ac540ada-f013-4396-b22d-8226bde20a24"
      },
      "source": [
        "df.head()"
      ],
      "execution_count": 36,
      "outputs": [
        {
          "output_type": "execute_result",
          "data": {
            "text/html": [
              "<div>\n",
              "<style scoped>\n",
              "    .dataframe tbody tr th:only-of-type {\n",
              "        vertical-align: middle;\n",
              "    }\n",
              "\n",
              "    .dataframe tbody tr th {\n",
              "        vertical-align: top;\n",
              "    }\n",
              "\n",
              "    .dataframe thead th {\n",
              "        text-align: right;\n",
              "    }\n",
              "</style>\n",
              "<table border=\"1\" class=\"dataframe\">\n",
              "  <thead>\n",
              "    <tr style=\"text-align: right;\">\n",
              "      <th></th>\n",
              "      <th>id</th>\n",
              "      <th>book_id</th>\n",
              "      <th>best_book_id</th>\n",
              "      <th>work_id</th>\n",
              "      <th>books_count</th>\n",
              "      <th>isbn</th>\n",
              "      <th>isbn13</th>\n",
              "      <th>authors</th>\n",
              "      <th>original_publication_year</th>\n",
              "      <th>original_title</th>\n",
              "      <th>title</th>\n",
              "      <th>language_code</th>\n",
              "      <th>average_rating</th>\n",
              "      <th>ratings_count</th>\n",
              "      <th>work_ratings_count</th>\n",
              "      <th>work_text_reviews_count</th>\n",
              "      <th>ratings_1</th>\n",
              "      <th>ratings_2</th>\n",
              "      <th>ratings_3</th>\n",
              "      <th>ratings_4</th>\n",
              "      <th>ratings_5</th>\n",
              "      <th>image_url</th>\n",
              "      <th>small_image_url</th>\n",
              "      <th>user_id</th>\n",
              "      <th>rating</th>\n",
              "    </tr>\n",
              "  </thead>\n",
              "  <tbody>\n",
              "    <tr>\n",
              "      <th>0</th>\n",
              "      <td>2</td>\n",
              "      <td>3</td>\n",
              "      <td>3</td>\n",
              "      <td>4640799</td>\n",
              "      <td>491</td>\n",
              "      <td>439554934</td>\n",
              "      <td>9.780440e+12</td>\n",
              "      <td>J.K. Rowling, Mary GrandPré</td>\n",
              "      <td>1997.0</td>\n",
              "      <td>Harry Potter and the Philosopher's Stone</td>\n",
              "      <td>Harry Potter and the Sorcerer's Stone (Harry P...</td>\n",
              "      <td>eng</td>\n",
              "      <td>4.44</td>\n",
              "      <td>4602479</td>\n",
              "      <td>4800065</td>\n",
              "      <td>75867</td>\n",
              "      <td>75504</td>\n",
              "      <td>101676</td>\n",
              "      <td>455024</td>\n",
              "      <td>1156318</td>\n",
              "      <td>3011543</td>\n",
              "      <td>https://images.gr-assets.com/books/1474154022m...</td>\n",
              "      <td>https://images.gr-assets.com/books/1474154022s...</td>\n",
              "      <td>314</td>\n",
              "      <td>3</td>\n",
              "    </tr>\n",
              "    <tr>\n",
              "      <th>1</th>\n",
              "      <td>2</td>\n",
              "      <td>3</td>\n",
              "      <td>3</td>\n",
              "      <td>4640799</td>\n",
              "      <td>491</td>\n",
              "      <td>439554934</td>\n",
              "      <td>9.780440e+12</td>\n",
              "      <td>J.K. Rowling, Mary GrandPré</td>\n",
              "      <td>1997.0</td>\n",
              "      <td>Harry Potter and the Philosopher's Stone</td>\n",
              "      <td>Harry Potter and the Sorcerer's Stone (Harry P...</td>\n",
              "      <td>eng</td>\n",
              "      <td>4.44</td>\n",
              "      <td>4602479</td>\n",
              "      <td>4800065</td>\n",
              "      <td>75867</td>\n",
              "      <td>75504</td>\n",
              "      <td>101676</td>\n",
              "      <td>455024</td>\n",
              "      <td>1156318</td>\n",
              "      <td>3011543</td>\n",
              "      <td>https://images.gr-assets.com/books/1474154022m...</td>\n",
              "      <td>https://images.gr-assets.com/books/1474154022s...</td>\n",
              "      <td>588</td>\n",
              "      <td>1</td>\n",
              "    </tr>\n",
              "    <tr>\n",
              "      <th>2</th>\n",
              "      <td>2</td>\n",
              "      <td>3</td>\n",
              "      <td>3</td>\n",
              "      <td>4640799</td>\n",
              "      <td>491</td>\n",
              "      <td>439554934</td>\n",
              "      <td>9.780440e+12</td>\n",
              "      <td>J.K. Rowling, Mary GrandPré</td>\n",
              "      <td>1997.0</td>\n",
              "      <td>Harry Potter and the Philosopher's Stone</td>\n",
              "      <td>Harry Potter and the Sorcerer's Stone (Harry P...</td>\n",
              "      <td>eng</td>\n",
              "      <td>4.44</td>\n",
              "      <td>4602479</td>\n",
              "      <td>4800065</td>\n",
              "      <td>75867</td>\n",
              "      <td>75504</td>\n",
              "      <td>101676</td>\n",
              "      <td>455024</td>\n",
              "      <td>1156318</td>\n",
              "      <td>3011543</td>\n",
              "      <td>https://images.gr-assets.com/books/1474154022m...</td>\n",
              "      <td>https://images.gr-assets.com/books/1474154022s...</td>\n",
              "      <td>2077</td>\n",
              "      <td>2</td>\n",
              "    </tr>\n",
              "    <tr>\n",
              "      <th>3</th>\n",
              "      <td>2</td>\n",
              "      <td>3</td>\n",
              "      <td>3</td>\n",
              "      <td>4640799</td>\n",
              "      <td>491</td>\n",
              "      <td>439554934</td>\n",
              "      <td>9.780440e+12</td>\n",
              "      <td>J.K. Rowling, Mary GrandPré</td>\n",
              "      <td>1997.0</td>\n",
              "      <td>Harry Potter and the Philosopher's Stone</td>\n",
              "      <td>Harry Potter and the Sorcerer's Stone (Harry P...</td>\n",
              "      <td>eng</td>\n",
              "      <td>4.44</td>\n",
              "      <td>4602479</td>\n",
              "      <td>4800065</td>\n",
              "      <td>75867</td>\n",
              "      <td>75504</td>\n",
              "      <td>101676</td>\n",
              "      <td>455024</td>\n",
              "      <td>1156318</td>\n",
              "      <td>3011543</td>\n",
              "      <td>https://images.gr-assets.com/books/1474154022m...</td>\n",
              "      <td>https://images.gr-assets.com/books/1474154022s...</td>\n",
              "      <td>2487</td>\n",
              "      <td>3</td>\n",
              "    </tr>\n",
              "    <tr>\n",
              "      <th>4</th>\n",
              "      <td>2</td>\n",
              "      <td>3</td>\n",
              "      <td>3</td>\n",
              "      <td>4640799</td>\n",
              "      <td>491</td>\n",
              "      <td>439554934</td>\n",
              "      <td>9.780440e+12</td>\n",
              "      <td>J.K. Rowling, Mary GrandPré</td>\n",
              "      <td>1997.0</td>\n",
              "      <td>Harry Potter and the Philosopher's Stone</td>\n",
              "      <td>Harry Potter and the Sorcerer's Stone (Harry P...</td>\n",
              "      <td>eng</td>\n",
              "      <td>4.44</td>\n",
              "      <td>4602479</td>\n",
              "      <td>4800065</td>\n",
              "      <td>75867</td>\n",
              "      <td>75504</td>\n",
              "      <td>101676</td>\n",
              "      <td>455024</td>\n",
              "      <td>1156318</td>\n",
              "      <td>3011543</td>\n",
              "      <td>https://images.gr-assets.com/books/1474154022m...</td>\n",
              "      <td>https://images.gr-assets.com/books/1474154022s...</td>\n",
              "      <td>2900</td>\n",
              "      <td>3</td>\n",
              "    </tr>\n",
              "  </tbody>\n",
              "</table>\n",
              "</div>"
            ],
            "text/plain": [
              "   id  book_id  ...  user_id  rating\n",
              "0   2        3  ...      314       3\n",
              "1   2        3  ...      588       1\n",
              "2   2        3  ...     2077       2\n",
              "3   2        3  ...     2487       3\n",
              "4   2        3  ...     2900       3\n",
              "\n",
              "[5 rows x 25 columns]"
            ]
          },
          "metadata": {
            "tags": []
          },
          "execution_count": 36
        }
      ]
    },
    {
      "cell_type": "code",
      "metadata": {
        "id": "aT3umQc00zhx",
        "colab_type": "code",
        "colab": {
          "base_uri": "https://localhost:8080/",
          "height": 1000
        },
        "outputId": "9586d82d-4328-4d62-a4c9-10404aa37f27"
      },
      "source": [
        "df[df['book_id']==1]"
      ],
      "execution_count": 37,
      "outputs": [
        {
          "output_type": "execute_result",
          "data": {
            "text/html": [
              "<div>\n",
              "<style scoped>\n",
              "    .dataframe tbody tr th:only-of-type {\n",
              "        vertical-align: middle;\n",
              "    }\n",
              "\n",
              "    .dataframe tbody tr th {\n",
              "        vertical-align: top;\n",
              "    }\n",
              "\n",
              "    .dataframe thead th {\n",
              "        text-align: right;\n",
              "    }\n",
              "</style>\n",
              "<table border=\"1\" class=\"dataframe\">\n",
              "  <thead>\n",
              "    <tr style=\"text-align: right;\">\n",
              "      <th></th>\n",
              "      <th>id</th>\n",
              "      <th>book_id</th>\n",
              "      <th>best_book_id</th>\n",
              "      <th>work_id</th>\n",
              "      <th>books_count</th>\n",
              "      <th>isbn</th>\n",
              "      <th>isbn13</th>\n",
              "      <th>authors</th>\n",
              "      <th>original_publication_year</th>\n",
              "      <th>original_title</th>\n",
              "      <th>title</th>\n",
              "      <th>language_code</th>\n",
              "      <th>average_rating</th>\n",
              "      <th>ratings_count</th>\n",
              "      <th>work_ratings_count</th>\n",
              "      <th>work_text_reviews_count</th>\n",
              "      <th>ratings_1</th>\n",
              "      <th>ratings_2</th>\n",
              "      <th>ratings_3</th>\n",
              "      <th>ratings_4</th>\n",
              "      <th>ratings_5</th>\n",
              "      <th>image_url</th>\n",
              "      <th>small_image_url</th>\n",
              "      <th>user_id</th>\n",
              "      <th>rating</th>\n",
              "    </tr>\n",
              "  </thead>\n",
              "  <tbody>\n",
              "    <tr>\n",
              "      <th>1400</th>\n",
              "      <td>27</td>\n",
              "      <td>1</td>\n",
              "      <td>1</td>\n",
              "      <td>41335427</td>\n",
              "      <td>275</td>\n",
              "      <td>439785960</td>\n",
              "      <td>9.780440e+12</td>\n",
              "      <td>J.K. Rowling, Mary GrandPré</td>\n",
              "      <td>2005.0</td>\n",
              "      <td>Harry Potter and the Half-Blood Prince</td>\n",
              "      <td>Harry Potter and the Half-Blood Prince (Harry ...</td>\n",
              "      <td>eng</td>\n",
              "      <td>4.54</td>\n",
              "      <td>1678823</td>\n",
              "      <td>1785676</td>\n",
              "      <td>27520</td>\n",
              "      <td>7308</td>\n",
              "      <td>21516</td>\n",
              "      <td>136333</td>\n",
              "      <td>459028</td>\n",
              "      <td>1161491</td>\n",
              "      <td>https://images.gr-assets.com/books/1361039191m...</td>\n",
              "      <td>https://images.gr-assets.com/books/1361039191s...</td>\n",
              "      <td>314</td>\n",
              "      <td>5</td>\n",
              "    </tr>\n",
              "    <tr>\n",
              "      <th>1401</th>\n",
              "      <td>27</td>\n",
              "      <td>1</td>\n",
              "      <td>1</td>\n",
              "      <td>41335427</td>\n",
              "      <td>275</td>\n",
              "      <td>439785960</td>\n",
              "      <td>9.780440e+12</td>\n",
              "      <td>J.K. Rowling, Mary GrandPré</td>\n",
              "      <td>2005.0</td>\n",
              "      <td>Harry Potter and the Half-Blood Prince</td>\n",
              "      <td>Harry Potter and the Half-Blood Prince (Harry ...</td>\n",
              "      <td>eng</td>\n",
              "      <td>4.54</td>\n",
              "      <td>1678823</td>\n",
              "      <td>1785676</td>\n",
              "      <td>27520</td>\n",
              "      <td>7308</td>\n",
              "      <td>21516</td>\n",
              "      <td>136333</td>\n",
              "      <td>459028</td>\n",
              "      <td>1161491</td>\n",
              "      <td>https://images.gr-assets.com/books/1361039191m...</td>\n",
              "      <td>https://images.gr-assets.com/books/1361039191s...</td>\n",
              "      <td>439</td>\n",
              "      <td>3</td>\n",
              "    </tr>\n",
              "    <tr>\n",
              "      <th>1402</th>\n",
              "      <td>27</td>\n",
              "      <td>1</td>\n",
              "      <td>1</td>\n",
              "      <td>41335427</td>\n",
              "      <td>275</td>\n",
              "      <td>439785960</td>\n",
              "      <td>9.780440e+12</td>\n",
              "      <td>J.K. Rowling, Mary GrandPré</td>\n",
              "      <td>2005.0</td>\n",
              "      <td>Harry Potter and the Half-Blood Prince</td>\n",
              "      <td>Harry Potter and the Half-Blood Prince (Harry ...</td>\n",
              "      <td>eng</td>\n",
              "      <td>4.54</td>\n",
              "      <td>1678823</td>\n",
              "      <td>1785676</td>\n",
              "      <td>27520</td>\n",
              "      <td>7308</td>\n",
              "      <td>21516</td>\n",
              "      <td>136333</td>\n",
              "      <td>459028</td>\n",
              "      <td>1161491</td>\n",
              "      <td>https://images.gr-assets.com/books/1361039191m...</td>\n",
              "      <td>https://images.gr-assets.com/books/1361039191s...</td>\n",
              "      <td>588</td>\n",
              "      <td>5</td>\n",
              "    </tr>\n",
              "    <tr>\n",
              "      <th>1403</th>\n",
              "      <td>27</td>\n",
              "      <td>1</td>\n",
              "      <td>1</td>\n",
              "      <td>41335427</td>\n",
              "      <td>275</td>\n",
              "      <td>439785960</td>\n",
              "      <td>9.780440e+12</td>\n",
              "      <td>J.K. Rowling, Mary GrandPré</td>\n",
              "      <td>2005.0</td>\n",
              "      <td>Harry Potter and the Half-Blood Prince</td>\n",
              "      <td>Harry Potter and the Half-Blood Prince (Harry ...</td>\n",
              "      <td>eng</td>\n",
              "      <td>4.54</td>\n",
              "      <td>1678823</td>\n",
              "      <td>1785676</td>\n",
              "      <td>27520</td>\n",
              "      <td>7308</td>\n",
              "      <td>21516</td>\n",
              "      <td>136333</td>\n",
              "      <td>459028</td>\n",
              "      <td>1161491</td>\n",
              "      <td>https://images.gr-assets.com/books/1361039191m...</td>\n",
              "      <td>https://images.gr-assets.com/books/1361039191s...</td>\n",
              "      <td>1169</td>\n",
              "      <td>4</td>\n",
              "    </tr>\n",
              "    <tr>\n",
              "      <th>1404</th>\n",
              "      <td>27</td>\n",
              "      <td>1</td>\n",
              "      <td>1</td>\n",
              "      <td>41335427</td>\n",
              "      <td>275</td>\n",
              "      <td>439785960</td>\n",
              "      <td>9.780440e+12</td>\n",
              "      <td>J.K. Rowling, Mary GrandPré</td>\n",
              "      <td>2005.0</td>\n",
              "      <td>Harry Potter and the Half-Blood Prince</td>\n",
              "      <td>Harry Potter and the Half-Blood Prince (Harry ...</td>\n",
              "      <td>eng</td>\n",
              "      <td>4.54</td>\n",
              "      <td>1678823</td>\n",
              "      <td>1785676</td>\n",
              "      <td>27520</td>\n",
              "      <td>7308</td>\n",
              "      <td>21516</td>\n",
              "      <td>136333</td>\n",
              "      <td>459028</td>\n",
              "      <td>1161491</td>\n",
              "      <td>https://images.gr-assets.com/books/1361039191m...</td>\n",
              "      <td>https://images.gr-assets.com/books/1361039191s...</td>\n",
              "      <td>1185</td>\n",
              "      <td>4</td>\n",
              "    </tr>\n",
              "    <tr>\n",
              "      <th>...</th>\n",
              "      <td>...</td>\n",
              "      <td>...</td>\n",
              "      <td>...</td>\n",
              "      <td>...</td>\n",
              "      <td>...</td>\n",
              "      <td>...</td>\n",
              "      <td>...</td>\n",
              "      <td>...</td>\n",
              "      <td>...</td>\n",
              "      <td>...</td>\n",
              "      <td>...</td>\n",
              "      <td>...</td>\n",
              "      <td>...</td>\n",
              "      <td>...</td>\n",
              "      <td>...</td>\n",
              "      <td>...</td>\n",
              "      <td>...</td>\n",
              "      <td>...</td>\n",
              "      <td>...</td>\n",
              "      <td>...</td>\n",
              "      <td>...</td>\n",
              "      <td>...</td>\n",
              "      <td>...</td>\n",
              "      <td>...</td>\n",
              "      <td>...</td>\n",
              "    </tr>\n",
              "    <tr>\n",
              "      <th>1495</th>\n",
              "      <td>27</td>\n",
              "      <td>1</td>\n",
              "      <td>1</td>\n",
              "      <td>41335427</td>\n",
              "      <td>275</td>\n",
              "      <td>439785960</td>\n",
              "      <td>9.780440e+12</td>\n",
              "      <td>J.K. Rowling, Mary GrandPré</td>\n",
              "      <td>2005.0</td>\n",
              "      <td>Harry Potter and the Half-Blood Prince</td>\n",
              "      <td>Harry Potter and the Half-Blood Prince (Harry ...</td>\n",
              "      <td>eng</td>\n",
              "      <td>4.54</td>\n",
              "      <td>1678823</td>\n",
              "      <td>1785676</td>\n",
              "      <td>27520</td>\n",
              "      <td>7308</td>\n",
              "      <td>21516</td>\n",
              "      <td>136333</td>\n",
              "      <td>459028</td>\n",
              "      <td>1161491</td>\n",
              "      <td>https://images.gr-assets.com/books/1361039191m...</td>\n",
              "      <td>https://images.gr-assets.com/books/1361039191s...</td>\n",
              "      <td>51460</td>\n",
              "      <td>3</td>\n",
              "    </tr>\n",
              "    <tr>\n",
              "      <th>1496</th>\n",
              "      <td>27</td>\n",
              "      <td>1</td>\n",
              "      <td>1</td>\n",
              "      <td>41335427</td>\n",
              "      <td>275</td>\n",
              "      <td>439785960</td>\n",
              "      <td>9.780440e+12</td>\n",
              "      <td>J.K. Rowling, Mary GrandPré</td>\n",
              "      <td>2005.0</td>\n",
              "      <td>Harry Potter and the Half-Blood Prince</td>\n",
              "      <td>Harry Potter and the Half-Blood Prince (Harry ...</td>\n",
              "      <td>eng</td>\n",
              "      <td>4.54</td>\n",
              "      <td>1678823</td>\n",
              "      <td>1785676</td>\n",
              "      <td>27520</td>\n",
              "      <td>7308</td>\n",
              "      <td>21516</td>\n",
              "      <td>136333</td>\n",
              "      <td>459028</td>\n",
              "      <td>1161491</td>\n",
              "      <td>https://images.gr-assets.com/books/1361039191m...</td>\n",
              "      <td>https://images.gr-assets.com/books/1361039191s...</td>\n",
              "      <td>51480</td>\n",
              "      <td>1</td>\n",
              "    </tr>\n",
              "    <tr>\n",
              "      <th>1497</th>\n",
              "      <td>27</td>\n",
              "      <td>1</td>\n",
              "      <td>1</td>\n",
              "      <td>41335427</td>\n",
              "      <td>275</td>\n",
              "      <td>439785960</td>\n",
              "      <td>9.780440e+12</td>\n",
              "      <td>J.K. Rowling, Mary GrandPré</td>\n",
              "      <td>2005.0</td>\n",
              "      <td>Harry Potter and the Half-Blood Prince</td>\n",
              "      <td>Harry Potter and the Half-Blood Prince (Harry ...</td>\n",
              "      <td>eng</td>\n",
              "      <td>4.54</td>\n",
              "      <td>1678823</td>\n",
              "      <td>1785676</td>\n",
              "      <td>27520</td>\n",
              "      <td>7308</td>\n",
              "      <td>21516</td>\n",
              "      <td>136333</td>\n",
              "      <td>459028</td>\n",
              "      <td>1161491</td>\n",
              "      <td>https://images.gr-assets.com/books/1361039191m...</td>\n",
              "      <td>https://images.gr-assets.com/books/1361039191s...</td>\n",
              "      <td>51838</td>\n",
              "      <td>5</td>\n",
              "    </tr>\n",
              "    <tr>\n",
              "      <th>1498</th>\n",
              "      <td>27</td>\n",
              "      <td>1</td>\n",
              "      <td>1</td>\n",
              "      <td>41335427</td>\n",
              "      <td>275</td>\n",
              "      <td>439785960</td>\n",
              "      <td>9.780440e+12</td>\n",
              "      <td>J.K. Rowling, Mary GrandPré</td>\n",
              "      <td>2005.0</td>\n",
              "      <td>Harry Potter and the Half-Blood Prince</td>\n",
              "      <td>Harry Potter and the Half-Blood Prince (Harry ...</td>\n",
              "      <td>eng</td>\n",
              "      <td>4.54</td>\n",
              "      <td>1678823</td>\n",
              "      <td>1785676</td>\n",
              "      <td>27520</td>\n",
              "      <td>7308</td>\n",
              "      <td>21516</td>\n",
              "      <td>136333</td>\n",
              "      <td>459028</td>\n",
              "      <td>1161491</td>\n",
              "      <td>https://images.gr-assets.com/books/1361039191m...</td>\n",
              "      <td>https://images.gr-assets.com/books/1361039191s...</td>\n",
              "      <td>52036</td>\n",
              "      <td>2</td>\n",
              "    </tr>\n",
              "    <tr>\n",
              "      <th>1499</th>\n",
              "      <td>27</td>\n",
              "      <td>1</td>\n",
              "      <td>1</td>\n",
              "      <td>41335427</td>\n",
              "      <td>275</td>\n",
              "      <td>439785960</td>\n",
              "      <td>9.780440e+12</td>\n",
              "      <td>J.K. Rowling, Mary GrandPré</td>\n",
              "      <td>2005.0</td>\n",
              "      <td>Harry Potter and the Half-Blood Prince</td>\n",
              "      <td>Harry Potter and the Half-Blood Prince (Harry ...</td>\n",
              "      <td>eng</td>\n",
              "      <td>4.54</td>\n",
              "      <td>1678823</td>\n",
              "      <td>1785676</td>\n",
              "      <td>27520</td>\n",
              "      <td>7308</td>\n",
              "      <td>21516</td>\n",
              "      <td>136333</td>\n",
              "      <td>459028</td>\n",
              "      <td>1161491</td>\n",
              "      <td>https://images.gr-assets.com/books/1361039191m...</td>\n",
              "      <td>https://images.gr-assets.com/books/1361039191s...</td>\n",
              "      <td>53245</td>\n",
              "      <td>4</td>\n",
              "    </tr>\n",
              "  </tbody>\n",
              "</table>\n",
              "<p>100 rows × 25 columns</p>\n",
              "</div>"
            ],
            "text/plain": [
              "      id  book_id  ...  user_id  rating\n",
              "1400  27        1  ...      314       5\n",
              "1401  27        1  ...      439       3\n",
              "1402  27        1  ...      588       5\n",
              "1403  27        1  ...     1169       4\n",
              "1404  27        1  ...     1185       4\n",
              "...   ..      ...  ...      ...     ...\n",
              "1495  27        1  ...    51460       3\n",
              "1496  27        1  ...    51480       1\n",
              "1497  27        1  ...    51838       5\n",
              "1498  27        1  ...    52036       2\n",
              "1499  27        1  ...    53245       4\n",
              "\n",
              "[100 rows x 25 columns]"
            ]
          },
          "metadata": {
            "tags": []
          },
          "execution_count": 37
        }
      ]
    },
    {
      "cell_type": "code",
      "metadata": {
        "id": "2wmFtY1U0zh7",
        "colab_type": "code",
        "colab": {}
      },
      "source": [
        "df_booktags.rename({'goodreads_book_id':'book_id'},axis=1,inplace=True)"
      ],
      "execution_count": 38,
      "outputs": []
    },
    {
      "cell_type": "code",
      "metadata": {
        "id": "1HqAoZm_0ziE",
        "colab_type": "code",
        "colab": {
          "base_uri": "https://localhost:8080/",
          "height": 419
        },
        "outputId": "05e33071-05f0-49e0-e3db-e0a12c5f42b1"
      },
      "source": [
        "df_booktags"
      ],
      "execution_count": 39,
      "outputs": [
        {
          "output_type": "execute_result",
          "data": {
            "text/html": [
              "<div>\n",
              "<style scoped>\n",
              "    .dataframe tbody tr th:only-of-type {\n",
              "        vertical-align: middle;\n",
              "    }\n",
              "\n",
              "    .dataframe tbody tr th {\n",
              "        vertical-align: top;\n",
              "    }\n",
              "\n",
              "    .dataframe thead th {\n",
              "        text-align: right;\n",
              "    }\n",
              "</style>\n",
              "<table border=\"1\" class=\"dataframe\">\n",
              "  <thead>\n",
              "    <tr style=\"text-align: right;\">\n",
              "      <th></th>\n",
              "      <th>book_id</th>\n",
              "      <th>tag_id</th>\n",
              "      <th>count</th>\n",
              "    </tr>\n",
              "  </thead>\n",
              "  <tbody>\n",
              "    <tr>\n",
              "      <th>0</th>\n",
              "      <td>1</td>\n",
              "      <td>30574</td>\n",
              "      <td>167697</td>\n",
              "    </tr>\n",
              "    <tr>\n",
              "      <th>1</th>\n",
              "      <td>1</td>\n",
              "      <td>11305</td>\n",
              "      <td>37174</td>\n",
              "    </tr>\n",
              "    <tr>\n",
              "      <th>2</th>\n",
              "      <td>1</td>\n",
              "      <td>11557</td>\n",
              "      <td>34173</td>\n",
              "    </tr>\n",
              "    <tr>\n",
              "      <th>3</th>\n",
              "      <td>1</td>\n",
              "      <td>8717</td>\n",
              "      <td>12986</td>\n",
              "    </tr>\n",
              "    <tr>\n",
              "      <th>4</th>\n",
              "      <td>1</td>\n",
              "      <td>33114</td>\n",
              "      <td>12716</td>\n",
              "    </tr>\n",
              "    <tr>\n",
              "      <th>...</th>\n",
              "      <td>...</td>\n",
              "      <td>...</td>\n",
              "      <td>...</td>\n",
              "    </tr>\n",
              "    <tr>\n",
              "      <th>999907</th>\n",
              "      <td>33288638</td>\n",
              "      <td>21303</td>\n",
              "      <td>7</td>\n",
              "    </tr>\n",
              "    <tr>\n",
              "      <th>999908</th>\n",
              "      <td>33288638</td>\n",
              "      <td>17271</td>\n",
              "      <td>7</td>\n",
              "    </tr>\n",
              "    <tr>\n",
              "      <th>999909</th>\n",
              "      <td>33288638</td>\n",
              "      <td>1126</td>\n",
              "      <td>7</td>\n",
              "    </tr>\n",
              "    <tr>\n",
              "      <th>999910</th>\n",
              "      <td>33288638</td>\n",
              "      <td>11478</td>\n",
              "      <td>7</td>\n",
              "    </tr>\n",
              "    <tr>\n",
              "      <th>999911</th>\n",
              "      <td>33288638</td>\n",
              "      <td>27939</td>\n",
              "      <td>7</td>\n",
              "    </tr>\n",
              "  </tbody>\n",
              "</table>\n",
              "<p>999912 rows × 3 columns</p>\n",
              "</div>"
            ],
            "text/plain": [
              "         book_id  tag_id   count\n",
              "0              1   30574  167697\n",
              "1              1   11305   37174\n",
              "2              1   11557   34173\n",
              "3              1    8717   12986\n",
              "4              1   33114   12716\n",
              "...          ...     ...     ...\n",
              "999907  33288638   21303       7\n",
              "999908  33288638   17271       7\n",
              "999909  33288638    1126       7\n",
              "999910  33288638   11478       7\n",
              "999911  33288638   27939       7\n",
              "\n",
              "[999912 rows x 3 columns]"
            ]
          },
          "metadata": {
            "tags": []
          },
          "execution_count": 39
        }
      ]
    },
    {
      "cell_type": "code",
      "metadata": {
        "id": "fyrvFTvt0ziQ",
        "colab_type": "code",
        "colab": {}
      },
      "source": [
        "\n",
        "df=df.merge(df_booktags,on='book_id')"
      ],
      "execution_count": 40,
      "outputs": []
    },
    {
      "cell_type": "code",
      "metadata": {
        "id": "HvTvS8Jc0ziZ",
        "colab_type": "code",
        "colab": {
          "base_uri": "https://localhost:8080/",
          "height": 34
        },
        "outputId": "09e08370-673f-427e-b7a4-8511c58f77b8"
      },
      "source": [
        "df.shape"
      ],
      "execution_count": 41,
      "outputs": [
        {
          "output_type": "execute_result",
          "data": {
            "text/plain": [
              "(7970100, 27)"
            ]
          },
          "metadata": {
            "tags": []
          },
          "execution_count": 41
        }
      ]
    },
    {
      "cell_type": "code",
      "metadata": {
        "id": "MIpdoGW75sdT",
        "colab_type": "code",
        "colab": {
          "base_uri": "https://localhost:8080/",
          "height": 34
        },
        "outputId": "35bac219-0ffd-4c82-a715-8f30378eae77"
      },
      "source": [
        "to_read_csv.shape"
      ],
      "execution_count": 42,
      "outputs": [
        {
          "output_type": "execute_result",
          "data": {
            "text/plain": [
              "(912705, 2)"
            ]
          },
          "metadata": {
            "tags": []
          },
          "execution_count": 42
        }
      ]
    },
    {
      "cell_type": "code",
      "metadata": {
        "id": "-_laYkzu5x-e",
        "colab_type": "code",
        "colab": {}
      },
      "source": [
        "df=df.merge(df_tags,on='tag_id')"
      ],
      "execution_count": 43,
      "outputs": []
    },
    {
      "cell_type": "markdown",
      "metadata": {
        "id": "oRhDRUp1RQ8V",
        "colab_type": "text"
      },
      "source": [
        "## Check for null values in our important columns, eg. book_id, user_id, rating, etc."
      ]
    },
    {
      "cell_type": "code",
      "metadata": {
        "id": "jVr3xRyQ59hC",
        "colab_type": "code",
        "colab": {
          "base_uri": "https://localhost:8080/",
          "height": 510
        },
        "outputId": "9ecc282d-dca4-400f-aa34-d5d6cde03168"
      },
      "source": [
        "df.isnull().sum()"
      ],
      "execution_count": 46,
      "outputs": [
        {
          "output_type": "execute_result",
          "data": {
            "text/plain": [
              "id                                 0\n",
              "book_id                            0\n",
              "best_book_id                       0\n",
              "work_id                            0\n",
              "books_count                        0\n",
              "isbn                           87900\n",
              "isbn13                         39800\n",
              "authors                            0\n",
              "original_publication_year      10000\n",
              "original_title                178100\n",
              "title                              0\n",
              "language_code                1113900\n",
              "average_rating                     0\n",
              "ratings_count                      0\n",
              "work_ratings_count                 0\n",
              "work_text_reviews_count            0\n",
              "ratings_1                          0\n",
              "ratings_2                          0\n",
              "ratings_3                          0\n",
              "ratings_4                          0\n",
              "ratings_5                          0\n",
              "image_url                          0\n",
              "small_image_url                    0\n",
              "user_id                            0\n",
              "rating                             0\n",
              "tag_id                             0\n",
              "count                              0\n",
              "tag_name                           0\n",
              "dtype: int64"
            ]
          },
          "metadata": {
            "tags": []
          },
          "execution_count": 46
        }
      ]
    },
    {
      "cell_type": "markdown",
      "metadata": {
        "id": "1Cu8IwEyWCnw",
        "colab_type": "text"
      },
      "source": [
        "## Let's do some analysis on ratings"
      ]
    },
    {
      "cell_type": "code",
      "metadata": {
        "id": "NJBAVTquWDUR",
        "colab_type": "code",
        "colab": {
          "base_uri": "https://localhost:8080/",
          "height": 290
        },
        "outputId": "71b12eb2-47a4-4bb5-f570-abc20367b65a"
      },
      "source": [
        "df['rating'].value_counts().sort_index(ascending=False).plot(kind='bar')\n"
      ],
      "execution_count": 47,
      "outputs": [
        {
          "output_type": "execute_result",
          "data": {
            "text/plain": [
              "<matplotlib.axes._subplots.AxesSubplot at 0x7fa4ebe61eb8>"
            ]
          },
          "metadata": {
            "tags": []
          },
          "execution_count": 47
        },
        {
          "output_type": "display_data",
          "data": {
            "image/png": "[encoded data removed]",
            "text/plain": [
              "<Figure size 432x288 with 1 Axes>"
            ]
          },
          "metadata": {
            "tags": [],
            "needs_background": "light"
          }
        }
      ]
    },
    {
      "cell_type": "markdown",
      "metadata": {
        "id": "cfODhRjsYQ8z",
        "colab_type": "text"
      },
      "source": [
        "We can see we have less number of 1 ratings."
      ]
    },
    {
      "cell_type": "markdown",
      "metadata": {
        "id": "cjHWZtDu7-a4",
        "colab_type": "text"
      },
      "source": [
        "## We are taking one condition that if users with less than 200 ratings, and books with less than 100 ratings are excluded."
      ]
    },
    {
      "cell_type": "code",
      "metadata": {
        "id": "x1wYZqtd6MiT",
        "colab_type": "code",
        "colab": {}
      },
      "source": [
        "counts1 = df['user_id'].value_counts()\n",
        "ratings = df[df['user_id'].isin(counts1[counts1 >= 200].index)]\n",
        "counts2 = df['rating'].value_counts()\n",
        "ratings = df[df['rating'].isin(counts2[counts2 >= 100].index)]"
      ],
      "execution_count": 48,
      "outputs": []
    },
    {
      "cell_type": "code",
      "metadata": {
        "id": "9MvL5lkP8ldF",
        "colab_type": "code",
        "colab": {
          "base_uri": "https://localhost:8080/",
          "height": 649
        },
        "outputId": "84587fd2-1b25-4b94-f29d-259a697a89e3"
      },
      "source": [
        "ratings.head()"
      ],
      "execution_count": 49,
      "outputs": [
        {
          "output_type": "execute_result",
          "data": {
            "text/html": [
              "<div>\n",
              "<style scoped>\n",
              "    .dataframe tbody tr th:only-of-type {\n",
              "        vertical-align: middle;\n",
              "    }\n",
              "\n",
              "    .dataframe tbody tr th {\n",
              "        vertical-align: top;\n",
              "    }\n",
              "\n",
              "    .dataframe thead th {\n",
              "        text-align: right;\n",
              "    }\n",
              "</style>\n",
              "<table border=\"1\" class=\"dataframe\">\n",
              "  <thead>\n",
              "    <tr style=\"text-align: right;\">\n",
              "      <th></th>\n",
              "      <th>id</th>\n",
              "      <th>book_id</th>\n",
              "      <th>best_book_id</th>\n",
              "      <th>work_id</th>\n",
              "      <th>books_count</th>\n",
              "      <th>isbn</th>\n",
              "      <th>isbn13</th>\n",
              "      <th>authors</th>\n",
              "      <th>original_publication_year</th>\n",
              "      <th>original_title</th>\n",
              "      <th>title</th>\n",
              "      <th>language_code</th>\n",
              "      <th>average_rating</th>\n",
              "      <th>ratings_count</th>\n",
              "      <th>work_ratings_count</th>\n",
              "      <th>work_text_reviews_count</th>\n",
              "      <th>ratings_1</th>\n",
              "      <th>ratings_2</th>\n",
              "      <th>ratings_3</th>\n",
              "      <th>ratings_4</th>\n",
              "      <th>ratings_5</th>\n",
              "      <th>image_url</th>\n",
              "      <th>small_image_url</th>\n",
              "      <th>user_id</th>\n",
              "      <th>rating</th>\n",
              "      <th>tag_id</th>\n",
              "      <th>count</th>\n",
              "      <th>tag_name</th>\n",
              "    </tr>\n",
              "  </thead>\n",
              "  <tbody>\n",
              "    <tr>\n",
              "      <th>0</th>\n",
              "      <td>2</td>\n",
              "      <td>3</td>\n",
              "      <td>3</td>\n",
              "      <td>4640799</td>\n",
              "      <td>491</td>\n",
              "      <td>439554934</td>\n",
              "      <td>9.780440e+12</td>\n",
              "      <td>J.K. Rowling, Mary GrandPré</td>\n",
              "      <td>1997.0</td>\n",
              "      <td>Harry Potter and the Philosopher's Stone</td>\n",
              "      <td>Harry Potter and the Sorcerer's Stone (Harry P...</td>\n",
              "      <td>eng</td>\n",
              "      <td>4.44</td>\n",
              "      <td>4602479</td>\n",
              "      <td>4800065</td>\n",
              "      <td>75867</td>\n",
              "      <td>75504</td>\n",
              "      <td>101676</td>\n",
              "      <td>455024</td>\n",
              "      <td>1156318</td>\n",
              "      <td>3011543</td>\n",
              "      <td>https://images.gr-assets.com/books/1474154022m...</td>\n",
              "      <td>https://images.gr-assets.com/books/1474154022s...</td>\n",
              "      <td>314</td>\n",
              "      <td>3</td>\n",
              "      <td>30574</td>\n",
              "      <td>496107</td>\n",
              "      <td>to-read</td>\n",
              "    </tr>\n",
              "    <tr>\n",
              "      <th>1</th>\n",
              "      <td>2</td>\n",
              "      <td>3</td>\n",
              "      <td>3</td>\n",
              "      <td>4640799</td>\n",
              "      <td>491</td>\n",
              "      <td>439554934</td>\n",
              "      <td>9.780440e+12</td>\n",
              "      <td>J.K. Rowling, Mary GrandPré</td>\n",
              "      <td>1997.0</td>\n",
              "      <td>Harry Potter and the Philosopher's Stone</td>\n",
              "      <td>Harry Potter and the Sorcerer's Stone (Harry P...</td>\n",
              "      <td>eng</td>\n",
              "      <td>4.44</td>\n",
              "      <td>4602479</td>\n",
              "      <td>4800065</td>\n",
              "      <td>75867</td>\n",
              "      <td>75504</td>\n",
              "      <td>101676</td>\n",
              "      <td>455024</td>\n",
              "      <td>1156318</td>\n",
              "      <td>3011543</td>\n",
              "      <td>https://images.gr-assets.com/books/1474154022m...</td>\n",
              "      <td>https://images.gr-assets.com/books/1474154022s...</td>\n",
              "      <td>588</td>\n",
              "      <td>1</td>\n",
              "      <td>30574</td>\n",
              "      <td>496107</td>\n",
              "      <td>to-read</td>\n",
              "    </tr>\n",
              "    <tr>\n",
              "      <th>2</th>\n",
              "      <td>2</td>\n",
              "      <td>3</td>\n",
              "      <td>3</td>\n",
              "      <td>4640799</td>\n",
              "      <td>491</td>\n",
              "      <td>439554934</td>\n",
              "      <td>9.780440e+12</td>\n",
              "      <td>J.K. Rowling, Mary GrandPré</td>\n",
              "      <td>1997.0</td>\n",
              "      <td>Harry Potter and the Philosopher's Stone</td>\n",
              "      <td>Harry Potter and the Sorcerer's Stone (Harry P...</td>\n",
              "      <td>eng</td>\n",
              "      <td>4.44</td>\n",
              "      <td>4602479</td>\n",
              "      <td>4800065</td>\n",
              "      <td>75867</td>\n",
              "      <td>75504</td>\n",
              "      <td>101676</td>\n",
              "      <td>455024</td>\n",
              "      <td>1156318</td>\n",
              "      <td>3011543</td>\n",
              "      <td>https://images.gr-assets.com/books/1474154022m...</td>\n",
              "      <td>https://images.gr-assets.com/books/1474154022s...</td>\n",
              "      <td>2077</td>\n",
              "      <td>2</td>\n",
              "      <td>30574</td>\n",
              "      <td>496107</td>\n",
              "      <td>to-read</td>\n",
              "    </tr>\n",
              "    <tr>\n",
              "      <th>3</th>\n",
              "      <td>2</td>\n",
              "      <td>3</td>\n",
              "      <td>3</td>\n",
              "      <td>4640799</td>\n",
              "      <td>491</td>\n",
              "      <td>439554934</td>\n",
              "      <td>9.780440e+12</td>\n",
              "      <td>J.K. Rowling, Mary GrandPré</td>\n",
              "      <td>1997.0</td>\n",
              "      <td>Harry Potter and the Philosopher's Stone</td>\n",
              "      <td>Harry Potter and the Sorcerer's Stone (Harry P...</td>\n",
              "      <td>eng</td>\n",
              "      <td>4.44</td>\n",
              "      <td>4602479</td>\n",
              "      <td>4800065</td>\n",
              "      <td>75867</td>\n",
              "      <td>75504</td>\n",
              "      <td>101676</td>\n",
              "      <td>455024</td>\n",
              "      <td>1156318</td>\n",
              "      <td>3011543</td>\n",
              "      <td>https://images.gr-assets.com/books/1474154022m...</td>\n",
              "      <td>https://images.gr-assets.com/books/1474154022s...</td>\n",
              "      <td>2487</td>\n",
              "      <td>3</td>\n",
              "      <td>30574</td>\n",
              "      <td>496107</td>\n",
              "      <td>to-read</td>\n",
              "    </tr>\n",
              "    <tr>\n",
              "      <th>4</th>\n",
              "      <td>2</td>\n",
              "      <td>3</td>\n",
              "      <td>3</td>\n",
              "      <td>4640799</td>\n",
              "      <td>491</td>\n",
              "      <td>439554934</td>\n",
              "      <td>9.780440e+12</td>\n",
              "      <td>J.K. Rowling, Mary GrandPré</td>\n",
              "      <td>1997.0</td>\n",
              "      <td>Harry Potter and the Philosopher's Stone</td>\n",
              "      <td>Harry Potter and the Sorcerer's Stone (Harry P...</td>\n",
              "      <td>eng</td>\n",
              "      <td>4.44</td>\n",
              "      <td>4602479</td>\n",
              "      <td>4800065</td>\n",
              "      <td>75867</td>\n",
              "      <td>75504</td>\n",
              "      <td>101676</td>\n",
              "      <td>455024</td>\n",
              "      <td>1156318</td>\n",
              "      <td>3011543</td>\n",
              "      <td>https://images.gr-assets.com/books/1474154022m...</td>\n",
              "      <td>https://images.gr-assets.com/books/1474154022s...</td>\n",
              "      <td>2900</td>\n",
              "      <td>3</td>\n",
              "      <td>30574</td>\n",
              "      <td>496107</td>\n",
              "      <td>to-read</td>\n",
              "    </tr>\n",
              "  </tbody>\n",
              "</table>\n",
              "</div>"
            ],
            "text/plain": [
              "   id  book_id  best_book_id  work_id  ...  rating tag_id   count tag_name\n",
              "0   2        3             3  4640799  ...       3  30574  496107  to-read\n",
              "1   2        3             3  4640799  ...       1  30574  496107  to-read\n",
              "2   2        3             3  4640799  ...       2  30574  496107  to-read\n",
              "3   2        3             3  4640799  ...       3  30574  496107  to-read\n",
              "4   2        3             3  4640799  ...       3  30574  496107  to-read\n",
              "\n",
              "[5 rows x 28 columns]"
            ]
          },
          "metadata": {
            "tags": []
          },
          "execution_count": 49
        }
      ]
    },
    {
      "cell_type": "code",
      "metadata": {
        "id": "I8cDD44r8phW",
        "colab_type": "code",
        "colab": {
          "base_uri": "https://localhost:8080/",
          "height": 136
        },
        "outputId": "289753d4-5a04-4667-833a-b21869e10c73"
      },
      "source": [
        "df.columns"
      ],
      "execution_count": 50,
      "outputs": [
        {
          "output_type": "execute_result",
          "data": {
            "text/plain": [
              "Index(['id', 'book_id', 'best_book_id', 'work_id', 'books_count', 'isbn',\n",
              "       'isbn13', 'authors', 'original_publication_year', 'original_title',\n",
              "       'title', 'language_code', 'average_rating', 'ratings_count',\n",
              "       'work_ratings_count', 'work_text_reviews_count', 'ratings_1',\n",
              "       'ratings_2', 'ratings_3', 'ratings_4', 'ratings_5', 'image_url',\n",
              "       'small_image_url', 'user_id', 'rating', 'tag_id', 'count', 'tag_name'],\n",
              "      dtype='object')"
            ]
          },
          "metadata": {
            "tags": []
          },
          "execution_count": 50
        }
      ]
    },
    {
      "cell_type": "markdown",
      "metadata": {
        "id": "mbocsCqBR2xO",
        "colab_type": "text"
      },
      "source": [
        "## Choose four columns for future work"
      ]
    },
    {
      "cell_type": "code",
      "metadata": {
        "id": "g6P9Xgnp_x4y",
        "colab_type": "code",
        "colab": {}
      },
      "source": [
        "final_data=ratings[['user_id','rating','book_id','title']]"
      ],
      "execution_count": 51,
      "outputs": []
    },
    {
      "cell_type": "code",
      "metadata": {
        "id": "GrBeh0-yAJNg",
        "colab_type": "code",
        "colab": {
          "base_uri": "https://localhost:8080/",
          "height": 419
        },
        "outputId": "9b0886da-9277-42a3-90ea-b80b4d938d22"
      },
      "source": [
        "final_data.groupby(by = ['title'])['rating'].count().reset_index()"
      ],
      "execution_count": 52,
      "outputs": [
        {
          "output_type": "execute_result",
          "data": {
            "text/html": [
              "<div>\n",
              "<style scoped>\n",
              "    .dataframe tbody tr th:only-of-type {\n",
              "        vertical-align: middle;\n",
              "    }\n",
              "\n",
              "    .dataframe tbody tr th {\n",
              "        vertical-align: top;\n",
              "    }\n",
              "\n",
              "    .dataframe thead th {\n",
              "        text-align: right;\n",
              "    }\n",
              "</style>\n",
              "<table border=\"1\" class=\"dataframe\">\n",
              "  <thead>\n",
              "    <tr style=\"text-align: right;\">\n",
              "      <th></th>\n",
              "      <th>title</th>\n",
              "      <th>rating</th>\n",
              "    </tr>\n",
              "  </thead>\n",
              "  <tbody>\n",
              "    <tr>\n",
              "      <th>0</th>\n",
              "      <td>'Salem's Lot</td>\n",
              "      <td>7400</td>\n",
              "    </tr>\n",
              "    <tr>\n",
              "      <th>1</th>\n",
              "      <td>'Tis (Frank McCourt, #2)</td>\n",
              "      <td>10000</td>\n",
              "    </tr>\n",
              "    <tr>\n",
              "      <th>2</th>\n",
              "      <td>1421: The Year China Discovered America</td>\n",
              "      <td>10000</td>\n",
              "    </tr>\n",
              "    <tr>\n",
              "      <th>3</th>\n",
              "      <td>1776</td>\n",
              "      <td>10000</td>\n",
              "    </tr>\n",
              "    <tr>\n",
              "      <th>4</th>\n",
              "      <td>1984</td>\n",
              "      <td>10000</td>\n",
              "    </tr>\n",
              "    <tr>\n",
              "      <th>...</th>\n",
              "      <td>...</td>\n",
              "      <td>...</td>\n",
              "    </tr>\n",
              "    <tr>\n",
              "      <th>807</th>\n",
              "      <td>Year of Wonders</td>\n",
              "      <td>10000</td>\n",
              "    </tr>\n",
              "    <tr>\n",
              "      <th>808</th>\n",
              "      <td>You Shall Know Our Velocity!</td>\n",
              "      <td>10000</td>\n",
              "    </tr>\n",
              "    <tr>\n",
              "      <th>809</th>\n",
              "      <td>Zen and the Art of Motorcycle Maintenance: An ...</td>\n",
              "      <td>10000</td>\n",
              "    </tr>\n",
              "    <tr>\n",
              "      <th>810</th>\n",
              "      <td>Zodiac</td>\n",
              "      <td>10000</td>\n",
              "    </tr>\n",
              "    <tr>\n",
              "      <th>811</th>\n",
              "      <td>number9dream</td>\n",
              "      <td>9800</td>\n",
              "    </tr>\n",
              "  </tbody>\n",
              "</table>\n",
              "<p>812 rows × 2 columns</p>\n",
              "</div>"
            ],
            "text/plain": [
              "                                                 title  rating\n",
              "0                                         'Salem's Lot    7400\n",
              "1                             'Tis (Frank McCourt, #2)   10000\n",
              "2              1421: The Year China Discovered America   10000\n",
              "3                                                 1776   10000\n",
              "4                                                 1984   10000\n",
              "..                                                 ...     ...\n",
              "807                                    Year of Wonders   10000\n",
              "808                       You Shall Know Our Velocity!   10000\n",
              "809  Zen and the Art of Motorcycle Maintenance: An ...   10000\n",
              "810                                             Zodiac   10000\n",
              "811                                       number9dream    9800\n",
              "\n",
              "[812 rows x 2 columns]"
            ]
          },
          "metadata": {
            "tags": []
          },
          "execution_count": 52
        }
      ]
    },
    {
      "cell_type": "markdown",
      "metadata": {
        "id": "OP1im1u8SDQd",
        "colab_type": "text"
      },
      "source": [
        "define new feature that is totoalrating which can count how much total ratinngs each book get."
      ]
    },
    {
      "cell_type": "code",
      "metadata": {
        "id": "5ZfxTxRpBAJa",
        "colab_type": "code",
        "colab": {
          "base_uri": "https://localhost:8080/",
          "height": 204
        },
        "outputId": "5745f645-4122-4b67-9e8d-88805e123a4a"
      },
      "source": [
        "book_ratingcount = (final_data.\n",
        "     groupby(by = ['title'])['rating'].\n",
        "     count().\n",
        "     reset_index().\n",
        "     rename(columns = {'rating': 'totalratingCount'})\n",
        "     [['title', 'totalratingCount']]\n",
        "    )\n",
        "book_ratingcount.head()"
      ],
      "execution_count": 53,
      "outputs": [
        {
          "output_type": "execute_result",
          "data": {
            "text/html": [
              "<div>\n",
              "<style scoped>\n",
              "    .dataframe tbody tr th:only-of-type {\n",
              "        vertical-align: middle;\n",
              "    }\n",
              "\n",
              "    .dataframe tbody tr th {\n",
              "        vertical-align: top;\n",
              "    }\n",
              "\n",
              "    .dataframe thead th {\n",
              "        text-align: right;\n",
              "    }\n",
              "</style>\n",
              "<table border=\"1\" class=\"dataframe\">\n",
              "  <thead>\n",
              "    <tr style=\"text-align: right;\">\n",
              "      <th></th>\n",
              "      <th>title</th>\n",
              "      <th>totalratingCount</th>\n",
              "    </tr>\n",
              "  </thead>\n",
              "  <tbody>\n",
              "    <tr>\n",
              "      <th>0</th>\n",
              "      <td>'Salem's Lot</td>\n",
              "      <td>7400</td>\n",
              "    </tr>\n",
              "    <tr>\n",
              "      <th>1</th>\n",
              "      <td>'Tis (Frank McCourt, #2)</td>\n",
              "      <td>10000</td>\n",
              "    </tr>\n",
              "    <tr>\n",
              "      <th>2</th>\n",
              "      <td>1421: The Year China Discovered America</td>\n",
              "      <td>10000</td>\n",
              "    </tr>\n",
              "    <tr>\n",
              "      <th>3</th>\n",
              "      <td>1776</td>\n",
              "      <td>10000</td>\n",
              "    </tr>\n",
              "    <tr>\n",
              "      <th>4</th>\n",
              "      <td>1984</td>\n",
              "      <td>10000</td>\n",
              "    </tr>\n",
              "  </tbody>\n",
              "</table>\n",
              "</div>"
            ],
            "text/plain": [
              "                                     title  totalratingCount\n",
              "0                             'Salem's Lot              7400\n",
              "1                 'Tis (Frank McCourt, #2)             10000\n",
              "2  1421: The Year China Discovered America             10000\n",
              "3                                     1776             10000\n",
              "4                                     1984             10000"
            ]
          },
          "metadata": {
            "tags": []
          },
          "execution_count": 53
        }
      ]
    },
    {
      "cell_type": "code",
      "metadata": {
        "id": "gd-YTvzAC0Bw",
        "colab_type": "code",
        "colab": {}
      },
      "source": [
        "rating_with_totalrating = final_data.merge(book_ratingcount,on = 'title')"
      ],
      "execution_count": 54,
      "outputs": []
    },
    {
      "cell_type": "markdown",
      "metadata": {
        "id": "5TudCu4RTFrI",
        "colab_type": "text"
      },
      "source": [
        "## I am taking a subset because of huge dataset."
      ]
    },
    {
      "cell_type": "code",
      "metadata": {
        "id": "6oIZKe3dF-TW",
        "colab_type": "code",
        "colab": {}
      },
      "source": [
        "\n",
        "data=rating_with_totalrating.sample(frac=0.5)\n"
      ],
      "execution_count": 57,
      "outputs": []
    },
    {
      "cell_type": "markdown",
      "metadata": {
        "id": "Z8iz2_WBTdKB",
        "colab_type": "text"
      },
      "source": [
        "## Spliting it into training and testing dataset"
      ]
    },
    {
      "cell_type": "code",
      "metadata": {
        "id": "VEBIsYoZfG5y",
        "colab_type": "code",
        "colab": {}
      },
      "source": [
        "training=data.sample(frac=0.75)\n",
        "testing=data[~data.isin(training)].dropna()"
      ],
      "execution_count": 58,
      "outputs": []
    },
    {
      "cell_type": "code",
      "metadata": {
        "id": "AV_sVC5-fdDN",
        "colab_type": "code",
        "colab": {
          "base_uri": "https://localhost:8080/",
          "height": 51
        },
        "outputId": "ed3fbba9-e085-4d4d-db7a-58c8a04a9208"
      },
      "source": [
        "print(training.shape)\n",
        "print(testing.shape)"
      ],
      "execution_count": 59,
      "outputs": [
        {
          "output_type": "stream",
          "text": [
            "(2988788, 5)\n",
            "(996262, 5)\n"
          ],
          "name": "stdout"
        }
      ]
    },
    {
      "cell_type": "markdown",
      "metadata": {
        "id": "xbrAWWYOeW9y",
        "colab_type": "text"
      },
      "source": [
        "## Let's Start the process of training our model"
      ]
    },
    {
      "cell_type": "markdown",
      "metadata": {
        "id": "G2V9a2XaALPB",
        "colab_type": "text"
      },
      "source": [
        "define the function for training dataset"
      ]
    },
    {
      "cell_type": "code",
      "metadata": {
        "id": "-ONLZWBkNeu6",
        "colab_type": "code",
        "colab": {}
      },
      "source": [
        "def surprise_df(data):\n",
        "    \n",
        "    scale = (data.rating.min(), data.rating.max())\n",
        "    reader = Reader(rating_scale=scale)\n",
        "\n",
        "    df = Dataset.load_from_df(data[['user_id',\n",
        "                                    'book_id',\n",
        "                                    'rating']], reader=reader)\n",
        "    \n",
        "    return df\n",
        "user_ratings_matrix = surprise_df(training)"
      ],
      "execution_count": 60,
      "outputs": []
    },
    {
      "cell_type": "markdown",
      "metadata": {
        "id": "-7zxCbm3AW1d",
        "colab_type": "text"
      },
      "source": [
        "Split it into training and testing datasets and train with models and find the low rmse score model"
      ]
    },
    {
      "cell_type": "markdown",
      "metadata": {
        "id": "PlSkh9WSeksw",
        "colab_type": "text"
      },
      "source": [
        "I have taken 4 models, 2 models are basic algorithms and 2 are follows matrix factorization"
      ]
    },
    {
      "cell_type": "code",
      "metadata": {
        "id": "OHkIj7KTUHfK",
        "colab_type": "code",
        "colab": {
          "base_uri": "https://localhost:8080/",
          "height": 292
        },
        "outputId": "ceea91fc-c137-432d-e3ca-95b96368c6eb"
      },
      "source": [
        "kf = KFold(n_splits=2, shuffle=True, random_state=19)\n",
        "def model_framework(train_data):\n",
        "  #store the rmse values for each fold in the k-fold loop \n",
        "  normp_rmse, svd_rmse, knn_rmse, co_rmse, slope_rmse = [],[],[],[],[]\n",
        "  for trainset, testset in kf.split(train_data):\n",
        "    #normal predictor\n",
        "    normp = NormalPredictor()\n",
        "    normp.fit(trainset)\n",
        "    normp_pred = normp.test(testset)\n",
        "    \n",
        "    normp_rmse.append(accuracy.rmse(normp_pred,verbose=False))\n",
        "        \n",
        "    #svd\n",
        "    svd = SVD(n_factors=30, n_epochs=50,biased=True, lr_all=0.005, reg_all=0.4, verbose=False)\n",
        "    svd.fit(trainset)\n",
        "    svd_pred = svd.test(testset)\n",
        "    svd_rmse.append(accuracy.rmse(svd_pred,verbose=False))\n",
        "        \n",
        "    #knn\n",
        "    knn = KNNBasic(k=40,sim_options={'name': 'cosine', 'user_based': False}, verbose=False) \n",
        "    knn.fit(trainset)\n",
        "    knn_pred = knn.test(testset)\n",
        "    knn_rmse.append(accuracy.rmse(knn_pred,verbose=False))\n",
        "        \n",
        "    #co_clustering\n",
        "    co = CoClustering(n_cltr_u=3,n_cltr_i=3,n_epochs=20)         \n",
        "    co.fit(trainset)\n",
        "    co_pred = co.test(testset)\n",
        "    co_rmse.append(accuracy.rmse(co_pred,verbose=False))\n",
        "\n",
        "    \n",
        "  mean_rmses = [np.mean(normp_rmse),\n",
        "                  np.mean(svd_rmse),\n",
        "                  np.mean(knn_rmse),\n",
        "                  np.mean(co_rmse),\n",
        "                  np.mean(slope_rmse)]\n",
        "    \n",
        "  model_names = ['baseline','svd','knn','coclustering']\n",
        "  compare_df = pd.DataFrame(mean_rmses, columns=['RMSE'], index=model_names)\n",
        "    \n",
        "  return compare_df\n",
        "comparison_df = model_framework(user_ratings_matrix)\n",
        "comparison_df.head()"
      ],
      "execution_count": 35,
      "outputs": [
        {
          "output_type": "stream",
          "text": [
            "/usr/local/lib/python3.6/dist-packages/numpy/core/fromnumeric.py:3335: RuntimeWarning: Mean of empty slice.\n",
            "  out=out, **kwargs)\n",
            "/usr/local/lib/python3.6/dist-packages/numpy/core/_methods.py:161: RuntimeWarning: invalid value encountered in double_scalars\n",
            "  ret = ret.dtype.type(ret / rcount)\n"
          ],
          "name": "stderr"
        },
        {
          "output_type": "execute_result",
          "data": {
            "text/html": [
              "<div>\n",
              "<style scoped>\n",
              "    .dataframe tbody tr th:only-of-type {\n",
              "        vertical-align: middle;\n",
              "    }\n",
              "\n",
              "    .dataframe tbody tr th {\n",
              "        vertical-align: top;\n",
              "    }\n",
              "\n",
              "    .dataframe thead th {\n",
              "        text-align: right;\n",
              "    }\n",
              "</style>\n",
              "<table border=\"1\" class=\"dataframe\">\n",
              "  <thead>\n",
              "    <tr style=\"text-align: right;\">\n",
              "      <th></th>\n",
              "      <th>RMSE</th>\n",
              "    </tr>\n",
              "  </thead>\n",
              "  <tbody>\n",
              "    <tr>\n",
              "      <th>baseline</th>\n",
              "      <td>1.322023</td>\n",
              "    </tr>\n",
              "    <tr>\n",
              "      <th>svd</th>\n",
              "      <td>0.684185</td>\n",
              "    </tr>\n",
              "    <tr>\n",
              "      <th>knn</th>\n",
              "      <td>0.588110</td>\n",
              "    </tr>\n",
              "    <tr>\n",
              "      <th>coclustering</th>\n",
              "      <td>0.628048</td>\n",
              "    </tr>\n",
              "    <tr>\n",
              "      <th>slopeone</th>\n",
              "      <td>NaN</td>\n",
              "    </tr>\n",
              "  </tbody>\n",
              "</table>\n",
              "</div>"
            ],
            "text/plain": [
              "                  RMSE\n",
              "baseline      1.322023\n",
              "svd           0.684185\n",
              "knn           0.588110\n",
              "coclustering  0.628048\n",
              "slopeone           NaN"
            ]
          },
          "metadata": {
            "tags": []
          },
          "execution_count": 35
        }
      ]
    },
    {
      "cell_type": "markdown",
      "metadata": {
        "id": "he-71i76Ayw3",
        "colab_type": "text"
      },
      "source": [
        "As you can see we got knn has less rmse score compare to others."
      ]
    },
    {
      "cell_type": "markdown",
      "metadata": {
        "id": "lV78XtZDA-0-",
        "colab_type": "text"
      },
      "source": [
        "we are going to use gridsearch for our knn model to get improvisation on rsme score."
      ]
    },
    {
      "cell_type": "code",
      "metadata": {
        "id": "UEJLQm_oUQqm",
        "colab_type": "code",
        "colab": {
          "base_uri": "https://localhost:8080/",
          "height": 1000
        },
        "outputId": "7e9fea4d-85f0-435b-980e-f8b3281b0f0c"
      },
      "source": [
        "def gridsearch(data, model, param_grid):\n",
        "    param_grid = param_grid\n",
        "    gs = GridSearchCV(model, param_grid, measures=['rmse'])\n",
        "    gs.fit(data)\n",
        "    \n",
        "    new_params = gs.best_params['rmse']\n",
        "    best_score = gs.best_score['rmse']\n",
        "    \n",
        "    print(\"Best score:\", best_score)\n",
        "    print(\"Best params:\", new_params)\n",
        "    \n",
        "    return new_params, best_score\n",
        "\n",
        "\n",
        "knn_param_grid = {'k': [10, 20],\n",
        "              'sim_options': {'name': ['msd', 'cosine'],\n",
        "                              'min_support': [1, 5],\n",
        "                              'user_based': [False]}\n",
        "              }\n",
        "knn_params, knn_score = gridsearch(user_ratings_matrix, KNNBasic, knn_param_grid)\n",
        "\n",
        "\n",
        "\n",
        "\n"
      ],
      "execution_count": 39,
      "outputs": [
        {
          "output_type": "stream",
          "text": [
            "Computing the msd similarity matrix...\n",
            "Done computing similarity matrix.\n",
            "Computing the msd similarity matrix...\n",
            "Done computing similarity matrix.\n",
            "Computing the msd similarity matrix...\n",
            "Done computing similarity matrix.\n",
            "Computing the msd similarity matrix...\n",
            "Done computing similarity matrix.\n",
            "Computing the msd similarity matrix...\n",
            "Done computing similarity matrix.\n",
            "Computing the msd similarity matrix...\n",
            "Done computing similarity matrix.\n",
            "Computing the msd similarity matrix...\n",
            "Done computing similarity matrix.\n",
            "Computing the msd similarity matrix...\n",
            "Done computing similarity matrix.\n",
            "Computing the msd similarity matrix...\n",
            "Done computing similarity matrix.\n",
            "Computing the msd similarity matrix...\n",
            "Done computing similarity matrix.\n",
            "Computing the cosine similarity matrix...\n",
            "Done computing similarity matrix.\n",
            "Computing the cosine similarity matrix...\n",
            "Done computing similarity matrix.\n",
            "Computing the cosine similarity matrix...\n",
            "Done computing similarity matrix.\n",
            "Computing the cosine similarity matrix...\n",
            "Done computing similarity matrix.\n",
            "Computing the cosine similarity matrix...\n",
            "Done computing similarity matrix.\n",
            "Computing the cosine similarity matrix...\n",
            "Done computing similarity matrix.\n",
            "Computing the cosine similarity matrix...\n",
            "Done computing similarity matrix.\n",
            "Computing the cosine similarity matrix...\n",
            "Done computing similarity matrix.\n",
            "Computing the cosine similarity matrix...\n",
            "Done computing similarity matrix.\n",
            "Computing the cosine similarity matrix...\n",
            "Done computing similarity matrix.\n",
            "Computing the msd similarity matrix...\n",
            "Done computing similarity matrix.\n",
            "Computing the msd similarity matrix...\n",
            "Done computing similarity matrix.\n",
            "Computing the msd similarity matrix...\n",
            "Done computing similarity matrix.\n",
            "Computing the msd similarity matrix...\n",
            "Done computing similarity matrix.\n",
            "Computing the msd similarity matrix...\n",
            "Done computing similarity matrix.\n",
            "Computing the msd similarity matrix...\n",
            "Done computing similarity matrix.\n",
            "Computing the msd similarity matrix...\n",
            "Done computing similarity matrix.\n",
            "Computing the msd similarity matrix...\n",
            "Done computing similarity matrix.\n",
            "Computing the msd similarity matrix...\n",
            "Done computing similarity matrix.\n",
            "Computing the msd similarity matrix...\n",
            "Done computing similarity matrix.\n",
            "Computing the cosine similarity matrix...\n",
            "Done computing similarity matrix.\n",
            "Computing the cosine similarity matrix...\n",
            "Done computing similarity matrix.\n",
            "Computing the cosine similarity matrix...\n",
            "Done computing similarity matrix.\n",
            "Computing the cosine similarity matrix...\n",
            "Done computing similarity matrix.\n",
            "Computing the cosine similarity matrix...\n",
            "Done computing similarity matrix.\n",
            "Computing the cosine similarity matrix...\n",
            "Done computing similarity matrix.\n",
            "Computing the cosine similarity matrix...\n",
            "Done computing similarity matrix.\n",
            "Computing the cosine similarity matrix...\n",
            "Done computing similarity matrix.\n",
            "Computing the cosine similarity matrix...\n",
            "Done computing similarity matrix.\n",
            "Computing the cosine similarity matrix...\n",
            "Done computing similarity matrix.\n",
            "Best score: 0.02079951677488452\n",
            "Best params: {'k': 10, 'sim_options': {'name': 'msd', 'min_support': 1, 'user_based': False}}\n"
          ],
          "name": "stdout"
        }
      ]
    },
    {
      "cell_type": "markdown",
      "metadata": {
        "id": "pUW9hIqh_WcU",
        "colab_type": "text"
      },
      "source": [
        "We got the result:\n",
        "Best score: 0.02079951677488452\n",
        "Best params: {'k': 10, 'sim_options': {'name': 'msd', 'min_support': 1, 'user_based': False}}"
      ]
    },
    {
      "cell_type": "markdown",
      "metadata": {
        "id": "_zR7BF9sUrqN",
        "colab_type": "text"
      },
      "source": [
        "## Final Model "
      ]
    },
    {
      "cell_type": "code",
      "metadata": {
        "id": "0WPViTWTGZj4",
        "colab_type": "code",
        "colab": {
          "base_uri": "https://localhost:8080/",
          "height": 34
        },
        "outputId": "a1ed4503-caef-4278-e2ec-fb5255449d9e"
      },
      "source": [
        "\n",
        "knn = KNNBasic(k=10,sim_options={'name': 'msd', 'min_support':1,'user_based': False}, verbose=False) \n",
        "trainset = user_ratings_matrix.build_full_trainset()\n",
        "knn.fit(trainset)\n"
      ],
      "execution_count": 61,
      "outputs": [
        {
          "output_type": "execute_result",
          "data": {
            "text/plain": [
              "<surprise.prediction_algorithms.knns.KNNBasic at 0x7fa4df71f5c0>"
            ]
          },
          "metadata": {
            "tags": []
          },
          "execution_count": 61
        }
      ]
    },
    {
      "cell_type": "markdown",
      "metadata": {
        "id": "JjWzhFg6UwbD",
        "colab_type": "text"
      },
      "source": [
        "## Make Predictions"
      ]
    },
    {
      "cell_type": "code",
      "metadata": {
        "id": "5PNkPrNKG2b4",
        "colab_type": "code",
        "colab": {}
      },
      "source": [
        "predictions=[]\n",
        "for _, row in testing[['user_id','book_id']].iterrows():\n",
        "    prediction=knn.predict(row.user_id, row.book_id)\n",
        "    predictions.append(prediction)"
      ],
      "execution_count": 62,
      "outputs": []
    },
    {
      "cell_type": "code",
      "metadata": {
        "id": "9yiwbaMioFb6",
        "colab_type": "code",
        "colab": {}
      },
      "source": [
        "from sklearn.metrics import mean_squared_error"
      ],
      "execution_count": 88,
      "outputs": []
    },
    {
      "cell_type": "markdown",
      "metadata": {
        "id": "46reuCu5opqB",
        "colab_type": "text"
      },
      "source": [
        "## Check rmse score for test dataset"
      ]
    },
    {
      "cell_type": "code",
      "metadata": {
        "id": "wcG4ovZnnsct",
        "colab_type": "code",
        "colab": {
          "base_uri": "https://localhost:8080/",
          "height": 34
        },
        "outputId": "501bf83c-693c-4a29-db6a-99ba5e2d93c5"
      },
      "source": [
        "estimated_values=[i[3] for i in predictions]\n",
        "rmse=np.sqrt(mean_squared_error(estimated_values,testing['rating']))\n",
        "\n",
        "print(rmse)"
      ],
      "execution_count": 90,
      "outputs": [
        {
          "output_type": "stream",
          "text": [
            "0.020974375736778263\n"
          ],
          "name": "stdout"
        }
      ]
    },
    {
      "cell_type": "markdown",
      "metadata": {
        "id": "APCjPVsoovn7",
        "colab_type": "text"
      },
      "source": [
        "We got 0.020 rmse score on testing dataset as well"
      ]
    },
    {
      "cell_type": "markdown",
      "metadata": {
        "id": "U2YzIumwwXVp",
        "colab_type": "text"
      },
      "source": [
        "## Let's find out the top 10 books which are going to recommend to our users"
      ]
    },
    {
      "cell_type": "code",
      "metadata": {
        "id": "4SN4wKoyjDPV",
        "colab_type": "code",
        "colab": {}
      },
      "source": [
        "# copy from surprise Documentation\n",
        "\n",
        "from collections import defaultdict\n",
        "def get_top_n(predictions, n=10):\n",
        "    \"\"\"Return the top-N recommendation for each user from a set of predictions.\n",
        "\n",
        "    Args:\n",
        "        predictions(list of Prediction objects): The list of predictions, as\n",
        "            returned by the test method of an algorithm.\n",
        "        n(int): The number of recommendation to output for each user. Default\n",
        "            is 10.\n",
        "\n",
        "    Returns:\n",
        "    A dict where keys are user (raw) ids and values are lists of tuples:\n",
        "        [(raw item id, rating estimation), ...] of size n.\n",
        "    \"\"\"\n",
        "\n",
        "    # First map the predictions to each user.\n",
        "    top_n = defaultdict(list)\n",
        "    for uid, iid, true_r, est, _ in predictions:\n",
        "        top_n[uid].append((iid, est))\n",
        "\n",
        "    # Then sort the predictions for each user and retrieve the k highest ones.\n",
        "    for uid, user_ratings in top_n.items():\n",
        "        user_ratings.sort(key=lambda x: x[1], reverse=True)\n",
        "        top_n[uid] = user_ratings[:n]\n",
        "\n",
        "    return top_n\n"
      ],
      "execution_count": 69,
      "outputs": []
    },
    {
      "cell_type": "code",
      "metadata": {
        "id": "A79slOHZk3Yz",
        "colab_type": "code",
        "colab": {}
      },
      "source": [
        "top_n=get_top_n(predictions)\n",
        "\n",
        "# Print the recommended items for each user\n",
        "recommendation=[]\n",
        "for uid, user_ratings in top_n.items():\n",
        "    recommendation.append((uid, [iid for (iid, _) in user_ratings]))"
      ],
      "execution_count": 78,
      "outputs": []
    },
    {
      "cell_type": "code",
      "metadata": {
        "id": "BxA14animT-X",
        "colab_type": "code",
        "colab": {}
      },
      "source": [
        "recommendation=pd.DataFrame(recommendation,columns=['User_id','Book_id'])"
      ],
      "execution_count": 91,
      "outputs": []
    },
    {
      "cell_type": "code",
      "metadata": {
        "id": "XpJ06Z8tSLrG",
        "colab_type": "code",
        "colab": {
          "base_uri": "https://localhost:8080/",
          "height": 419
        },
        "outputId": "aa6b8b27-0113-4b1b-9480-46eed08ce5cd"
      },
      "source": [
        "recommendation"
      ],
      "execution_count": 92,
      "outputs": [
        {
          "output_type": "execute_result",
          "data": {
            "text/html": [
              "<div>\n",
              "<style scoped>\n",
              "    .dataframe tbody tr th:only-of-type {\n",
              "        vertical-align: middle;\n",
              "    }\n",
              "\n",
              "    .dataframe tbody tr th {\n",
              "        vertical-align: top;\n",
              "    }\n",
              "\n",
              "    .dataframe thead th {\n",
              "        text-align: right;\n",
              "    }\n",
              "</style>\n",
              "<table border=\"1\" class=\"dataframe\">\n",
              "  <thead>\n",
              "    <tr style=\"text-align: right;\">\n",
              "      <th></th>\n",
              "      <th>User_id</th>\n",
              "      <th>Book_id</th>\n",
              "    </tr>\n",
              "  </thead>\n",
              "  <tbody>\n",
              "    <tr>\n",
              "      <th>0</th>\n",
              "      <td>21093.0</td>\n",
              "      <td>[4921.0, 8694.0, 4921.0, 8694.0, 7996.0, 7996....</td>\n",
              "    </tr>\n",
              "    <tr>\n",
              "      <th>1</th>\n",
              "      <td>50351.0</td>\n",
              "      <td>[2373.0, 2373.0, 2373.0, 2373.0, 2373.0, 2373....</td>\n",
              "    </tr>\n",
              "    <tr>\n",
              "      <th>2</th>\n",
              "      <td>28771.0</td>\n",
              "      <td>[3586.0, 3586.0, 3586.0, 3586.0, 3586.0, 3586....</td>\n",
              "    </tr>\n",
              "    <tr>\n",
              "      <th>3</th>\n",
              "      <td>48319.0</td>\n",
              "      <td>[8089.0, 8089.0, 8089.0, 8089.0, 8089.0, 8089....</td>\n",
              "    </tr>\n",
              "    <tr>\n",
              "      <th>4</th>\n",
              "      <td>25499.0</td>\n",
              "      <td>[2373.0, 2373.0, 2373.0, 2373.0, 2373.0, 2373....</td>\n",
              "    </tr>\n",
              "    <tr>\n",
              "      <th>...</th>\n",
              "      <td>...</td>\n",
              "      <td>...</td>\n",
              "    </tr>\n",
              "    <tr>\n",
              "      <th>28901</th>\n",
              "      <td>25681.0</td>\n",
              "      <td>[6149.0, 6149.0, 6149.0, 6149.0, 6149.0, 6149....</td>\n",
              "    </tr>\n",
              "    <tr>\n",
              "      <th>28902</th>\n",
              "      <td>48417.0</td>\n",
              "      <td>[7668.0, 7668.0, 7668.0, 7668.0, 7668.0]</td>\n",
              "    </tr>\n",
              "    <tr>\n",
              "      <th>28903</th>\n",
              "      <td>4591.0</td>\n",
              "      <td>[8921.0, 8921.0, 8921.0, 8921.0, 8921.0, 8921....</td>\n",
              "    </tr>\n",
              "    <tr>\n",
              "      <th>28904</th>\n",
              "      <td>41378.0</td>\n",
              "      <td>[8948.0, 8948.0, 8948.0, 8948.0, 8948.0, 8948....</td>\n",
              "    </tr>\n",
              "    <tr>\n",
              "      <th>28905</th>\n",
              "      <td>37491.0</td>\n",
              "      <td>[4980.0, 4980.0, 4980.0, 4980.0]</td>\n",
              "    </tr>\n",
              "  </tbody>\n",
              "</table>\n",
              "<p>28906 rows × 2 columns</p>\n",
              "</div>"
            ],
            "text/plain": [
              "       User_id                                            Book_id\n",
              "0      21093.0  [4921.0, 8694.0, 4921.0, 8694.0, 7996.0, 7996....\n",
              "1      50351.0  [2373.0, 2373.0, 2373.0, 2373.0, 2373.0, 2373....\n",
              "2      28771.0  [3586.0, 3586.0, 3586.0, 3586.0, 3586.0, 3586....\n",
              "3      48319.0  [8089.0, 8089.0, 8089.0, 8089.0, 8089.0, 8089....\n",
              "4      25499.0  [2373.0, 2373.0, 2373.0, 2373.0, 2373.0, 2373....\n",
              "...        ...                                                ...\n",
              "28901  25681.0  [6149.0, 6149.0, 6149.0, 6149.0, 6149.0, 6149....\n",
              "28902  48417.0           [7668.0, 7668.0, 7668.0, 7668.0, 7668.0]\n",
              "28903   4591.0  [8921.0, 8921.0, 8921.0, 8921.0, 8921.0, 8921....\n",
              "28904  41378.0  [8948.0, 8948.0, 8948.0, 8948.0, 8948.0, 8948....\n",
              "28905  37491.0                   [4980.0, 4980.0, 4980.0, 4980.0]\n",
              "\n",
              "[28906 rows x 2 columns]"
            ]
          },
          "metadata": {
            "tags": []
          },
          "execution_count": 92
        }
      ]
    },
    {
      "cell_type": "code",
      "metadata": {
        "id": "L-ojaBOTm5Xl",
        "colab_type": "code",
        "colab": {}
      },
      "source": [
        "recommendation.to_csv('top_10_recommedation.csv')"
      ],
      "execution_count": 97,
      "outputs": []
    },
    {
      "cell_type": "code",
      "metadata": {
        "id": "4JuFbSmWpSAS",
        "colab_type": "code",
        "colab": {}
      },
      "source": [
        "import pandas as pd\n",
        "df=pd.read_csv('/content/top_10_recommedation.csv',converters={'Book_id':eval})"
      ],
      "execution_count": 37,
      "outputs": []
    },
    {
      "cell_type": "code",
      "metadata": {
        "id": "Fqt2BZ7q8O5-",
        "colab_type": "code",
        "colab": {}
      },
      "source": [
        "df.drop('Unnamed: 0',axis=1,inplace=True)"
      ],
      "execution_count": 38,
      "outputs": []
    },
    {
      "cell_type": "code",
      "metadata": {
        "id": "Mx4yDMh8_JS1",
        "colab_type": "code",
        "colab": {}
      },
      "source": [
        "\n",
        "\n",
        "unstack_df = df.set_index(['User_id'])['Book_id'].apply(pd.Series)\\\n",
        "                                         .stack()\\\n",
        "                                         .reset_index(level=1, drop=True)\n",
        "\n",
        "unstack_df = unstack_df.reset_index()\n",
        "unstack_df.columns = ['User_id', 'Book_id']\n",
        "unstack_df.to_csv('top_10_recommendations1.csv',index=False)"
      ],
      "execution_count": 43,
      "outputs": []
    },
    {
      "cell_type": "code",
      "metadata": {
        "id": "q_ItFGvCMDtV",
        "colab_type": "code",
        "colab": {
          "base_uri": "https://localhost:8080/",
          "height": 419
        },
        "outputId": "864faf7e-0e27-46ec-c01f-d65097dfc25b"
      },
      "source": [
        "unstack_df"
      ],
      "execution_count": 44,
      "outputs": [
        {
          "output_type": "execute_result",
          "data": {
            "text/html": [
              "<div>\n",
              "<style scoped>\n",
              "    .dataframe tbody tr th:only-of-type {\n",
              "        vertical-align: middle;\n",
              "    }\n",
              "\n",
              "    .dataframe tbody tr th {\n",
              "        vertical-align: top;\n",
              "    }\n",
              "\n",
              "    .dataframe thead th {\n",
              "        text-align: right;\n",
              "    }\n",
              "</style>\n",
              "<table border=\"1\" class=\"dataframe\">\n",
              "  <thead>\n",
              "    <tr style=\"text-align: right;\">\n",
              "      <th></th>\n",
              "      <th>User_id</th>\n",
              "      <th>Book_id</th>\n",
              "    </tr>\n",
              "  </thead>\n",
              "  <tbody>\n",
              "    <tr>\n",
              "      <th>0</th>\n",
              "      <td>21093.0</td>\n",
              "      <td>4921.0</td>\n",
              "    </tr>\n",
              "    <tr>\n",
              "      <th>1</th>\n",
              "      <td>21093.0</td>\n",
              "      <td>8694.0</td>\n",
              "    </tr>\n",
              "    <tr>\n",
              "      <th>2</th>\n",
              "      <td>21093.0</td>\n",
              "      <td>4921.0</td>\n",
              "    </tr>\n",
              "    <tr>\n",
              "      <th>3</th>\n",
              "      <td>21093.0</td>\n",
              "      <td>8694.0</td>\n",
              "    </tr>\n",
              "    <tr>\n",
              "      <th>4</th>\n",
              "      <td>21093.0</td>\n",
              "      <td>7996.0</td>\n",
              "    </tr>\n",
              "    <tr>\n",
              "      <th>...</th>\n",
              "      <td>...</td>\n",
              "      <td>...</td>\n",
              "    </tr>\n",
              "    <tr>\n",
              "      <th>283949</th>\n",
              "      <td>41378.0</td>\n",
              "      <td>8948.0</td>\n",
              "    </tr>\n",
              "    <tr>\n",
              "      <th>283950</th>\n",
              "      <td>37491.0</td>\n",
              "      <td>4980.0</td>\n",
              "    </tr>\n",
              "    <tr>\n",
              "      <th>283951</th>\n",
              "      <td>37491.0</td>\n",
              "      <td>4980.0</td>\n",
              "    </tr>\n",
              "    <tr>\n",
              "      <th>283952</th>\n",
              "      <td>37491.0</td>\n",
              "      <td>4980.0</td>\n",
              "    </tr>\n",
              "    <tr>\n",
              "      <th>283953</th>\n",
              "      <td>37491.0</td>\n",
              "      <td>4980.0</td>\n",
              "    </tr>\n",
              "  </tbody>\n",
              "</table>\n",
              "<p>283954 rows × 2 columns</p>\n",
              "</div>"
            ],
            "text/plain": [
              "        User_id  Book_id\n",
              "0       21093.0   4921.0\n",
              "1       21093.0   8694.0\n",
              "2       21093.0   4921.0\n",
              "3       21093.0   8694.0\n",
              "4       21093.0   7996.0\n",
              "...         ...      ...\n",
              "283949  41378.0   8948.0\n",
              "283950  37491.0   4980.0\n",
              "283951  37491.0   4980.0\n",
              "283952  37491.0   4980.0\n",
              "283953  37491.0   4980.0\n",
              "\n",
              "[283954 rows x 2 columns]"
            ]
          },
          "metadata": {
            "tags": []
          },
          "execution_count": 44
        }
      ]
    },
    {
      "cell_type": "code",
      "metadata": {
        "id": "QF6TrNc9KU3q",
        "colab_type": "code",
        "colab": {}
      },
      "source": [
        ""
      ],
      "execution_count": null,
      "outputs": []
    }
  ]
}